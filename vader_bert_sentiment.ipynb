{
  "nbformat": 4,
  "nbformat_minor": 0,
  "metadata": {
    "colab": {
      "provenance": [],
      "collapsed_sections": [],
      "mount_file_id": "1zX1BElUnCDJ-9ArdBDKNbPTpK5PmE_vp",
      "authorship_tag": "ABX9TyNY1ummOlKnDK5m4fqyADnp",
      "include_colab_link": true
    },
    "kernelspec": {
      "name": "python3",
      "display_name": "Python 3"
    },
    "language_info": {
      "name": "python"
    },
    "gpuClass": "standard",
    "widgets": {
      "application/vnd.jupyter.widget-state+json": {
        "0e0ce321f8c645f5b18c350507baa11f": {
          "model_module": "@jupyter-widgets/controls",
          "model_name": "HBoxModel",
          "model_module_version": "1.5.0",
          "state": {
            "_dom_classes": [],
            "_model_module": "@jupyter-widgets/controls",
            "_model_module_version": "1.5.0",
            "_model_name": "HBoxModel",
            "_view_count": null,
            "_view_module": "@jupyter-widgets/controls",
            "_view_module_version": "1.5.0",
            "_view_name": "HBoxView",
            "box_style": "",
            "children": [
              "IPY_MODEL_63a97cbebc2b4766982ca3e2322f4cb1",
              "IPY_MODEL_32be4c9b82a04465866fe42884376b2a",
              "IPY_MODEL_367d0335a2fe4d469cf8743c5ee043b2"
            ],
            "layout": "IPY_MODEL_c7a72ec45e07437cb2711b7040409478"
          }
        },
        "63a97cbebc2b4766982ca3e2322f4cb1": {
          "model_module": "@jupyter-widgets/controls",
          "model_name": "HTMLModel",
          "model_module_version": "1.5.0",
          "state": {
            "_dom_classes": [],
            "_model_module": "@jupyter-widgets/controls",
            "_model_module_version": "1.5.0",
            "_model_name": "HTMLModel",
            "_view_count": null,
            "_view_module": "@jupyter-widgets/controls",
            "_view_module_version": "1.5.0",
            "_view_name": "HTMLView",
            "description": "",
            "description_tooltip": null,
            "layout": "IPY_MODEL_397cd5ef218543b1be9351ef1ddb9aa0",
            "placeholder": "​",
            "style": "IPY_MODEL_862472139b914b56a13c97a870f72094",
            "value": "100%"
          }
        },
        "32be4c9b82a04465866fe42884376b2a": {
          "model_module": "@jupyter-widgets/controls",
          "model_name": "FloatProgressModel",
          "model_module_version": "1.5.0",
          "state": {
            "_dom_classes": [],
            "_model_module": "@jupyter-widgets/controls",
            "_model_module_version": "1.5.0",
            "_model_name": "FloatProgressModel",
            "_view_count": null,
            "_view_module": "@jupyter-widgets/controls",
            "_view_module_version": "1.5.0",
            "_view_name": "ProgressView",
            "bar_style": "success",
            "description": "",
            "description_tooltip": null,
            "layout": "IPY_MODEL_e821ba757f754c0c94f773785af01477",
            "max": 3125,
            "min": 0,
            "orientation": "horizontal",
            "style": "IPY_MODEL_6478d39f0e4e4c0a948ea51f61319fac",
            "value": 3125
          }
        },
        "367d0335a2fe4d469cf8743c5ee043b2": {
          "model_module": "@jupyter-widgets/controls",
          "model_name": "HTMLModel",
          "model_module_version": "1.5.0",
          "state": {
            "_dom_classes": [],
            "_model_module": "@jupyter-widgets/controls",
            "_model_module_version": "1.5.0",
            "_model_name": "HTMLModel",
            "_view_count": null,
            "_view_module": "@jupyter-widgets/controls",
            "_view_module_version": "1.5.0",
            "_view_name": "HTMLView",
            "description": "",
            "description_tooltip": null,
            "layout": "IPY_MODEL_0ac07d6d0e7f401fa358d25dcaddc3d5",
            "placeholder": "​",
            "style": "IPY_MODEL_49345a1a6c2a433abd6c7e0c132a079e",
            "value": " 3125/3125 [12:00&lt;00:00,  3.98it/s]"
          }
        },
        "c7a72ec45e07437cb2711b7040409478": {
          "model_module": "@jupyter-widgets/base",
          "model_name": "LayoutModel",
          "model_module_version": "1.2.0",
          "state": {
            "_model_module": "@jupyter-widgets/base",
            "_model_module_version": "1.2.0",
            "_model_name": "LayoutModel",
            "_view_count": null,
            "_view_module": "@jupyter-widgets/base",
            "_view_module_version": "1.2.0",
            "_view_name": "LayoutView",
            "align_content": null,
            "align_items": null,
            "align_self": null,
            "border": null,
            "bottom": null,
            "display": null,
            "flex": null,
            "flex_flow": null,
            "grid_area": null,
            "grid_auto_columns": null,
            "grid_auto_flow": null,
            "grid_auto_rows": null,
            "grid_column": null,
            "grid_gap": null,
            "grid_row": null,
            "grid_template_areas": null,
            "grid_template_columns": null,
            "grid_template_rows": null,
            "height": null,
            "justify_content": null,
            "justify_items": null,
            "left": null,
            "margin": null,
            "max_height": null,
            "max_width": null,
            "min_height": null,
            "min_width": null,
            "object_fit": null,
            "object_position": null,
            "order": null,
            "overflow": null,
            "overflow_x": null,
            "overflow_y": null,
            "padding": null,
            "right": null,
            "top": null,
            "visibility": null,
            "width": null
          }
        },
        "397cd5ef218543b1be9351ef1ddb9aa0": {
          "model_module": "@jupyter-widgets/base",
          "model_name": "LayoutModel",
          "model_module_version": "1.2.0",
          "state": {
            "_model_module": "@jupyter-widgets/base",
            "_model_module_version": "1.2.0",
            "_model_name": "LayoutModel",
            "_view_count": null,
            "_view_module": "@jupyter-widgets/base",
            "_view_module_version": "1.2.0",
            "_view_name": "LayoutView",
            "align_content": null,
            "align_items": null,
            "align_self": null,
            "border": null,
            "bottom": null,
            "display": null,
            "flex": null,
            "flex_flow": null,
            "grid_area": null,
            "grid_auto_columns": null,
            "grid_auto_flow": null,
            "grid_auto_rows": null,
            "grid_column": null,
            "grid_gap": null,
            "grid_row": null,
            "grid_template_areas": null,
            "grid_template_columns": null,
            "grid_template_rows": null,
            "height": null,
            "justify_content": null,
            "justify_items": null,
            "left": null,
            "margin": null,
            "max_height": null,
            "max_width": null,
            "min_height": null,
            "min_width": null,
            "object_fit": null,
            "object_position": null,
            "order": null,
            "overflow": null,
            "overflow_x": null,
            "overflow_y": null,
            "padding": null,
            "right": null,
            "top": null,
            "visibility": null,
            "width": null
          }
        },
        "862472139b914b56a13c97a870f72094": {
          "model_module": "@jupyter-widgets/controls",
          "model_name": "DescriptionStyleModel",
          "model_module_version": "1.5.0",
          "state": {
            "_model_module": "@jupyter-widgets/controls",
            "_model_module_version": "1.5.0",
            "_model_name": "DescriptionStyleModel",
            "_view_count": null,
            "_view_module": "@jupyter-widgets/base",
            "_view_module_version": "1.2.0",
            "_view_name": "StyleView",
            "description_width": ""
          }
        },
        "e821ba757f754c0c94f773785af01477": {
          "model_module": "@jupyter-widgets/base",
          "model_name": "LayoutModel",
          "model_module_version": "1.2.0",
          "state": {
            "_model_module": "@jupyter-widgets/base",
            "_model_module_version": "1.2.0",
            "_model_name": "LayoutModel",
            "_view_count": null,
            "_view_module": "@jupyter-widgets/base",
            "_view_module_version": "1.2.0",
            "_view_name": "LayoutView",
            "align_content": null,
            "align_items": null,
            "align_self": null,
            "border": null,
            "bottom": null,
            "display": null,
            "flex": null,
            "flex_flow": null,
            "grid_area": null,
            "grid_auto_columns": null,
            "grid_auto_flow": null,
            "grid_auto_rows": null,
            "grid_column": null,
            "grid_gap": null,
            "grid_row": null,
            "grid_template_areas": null,
            "grid_template_columns": null,
            "grid_template_rows": null,
            "height": null,
            "justify_content": null,
            "justify_items": null,
            "left": null,
            "margin": null,
            "max_height": null,
            "max_width": null,
            "min_height": null,
            "min_width": null,
            "object_fit": null,
            "object_position": null,
            "order": null,
            "overflow": null,
            "overflow_x": null,
            "overflow_y": null,
            "padding": null,
            "right": null,
            "top": null,
            "visibility": null,
            "width": null
          }
        },
        "6478d39f0e4e4c0a948ea51f61319fac": {
          "model_module": "@jupyter-widgets/controls",
          "model_name": "ProgressStyleModel",
          "model_module_version": "1.5.0",
          "state": {
            "_model_module": "@jupyter-widgets/controls",
            "_model_module_version": "1.5.0",
            "_model_name": "ProgressStyleModel",
            "_view_count": null,
            "_view_module": "@jupyter-widgets/base",
            "_view_module_version": "1.2.0",
            "_view_name": "StyleView",
            "bar_color": null,
            "description_width": ""
          }
        },
        "0ac07d6d0e7f401fa358d25dcaddc3d5": {
          "model_module": "@jupyter-widgets/base",
          "model_name": "LayoutModel",
          "model_module_version": "1.2.0",
          "state": {
            "_model_module": "@jupyter-widgets/base",
            "_model_module_version": "1.2.0",
            "_model_name": "LayoutModel",
            "_view_count": null,
            "_view_module": "@jupyter-widgets/base",
            "_view_module_version": "1.2.0",
            "_view_name": "LayoutView",
            "align_content": null,
            "align_items": null,
            "align_self": null,
            "border": null,
            "bottom": null,
            "display": null,
            "flex": null,
            "flex_flow": null,
            "grid_area": null,
            "grid_auto_columns": null,
            "grid_auto_flow": null,
            "grid_auto_rows": null,
            "grid_column": null,
            "grid_gap": null,
            "grid_row": null,
            "grid_template_areas": null,
            "grid_template_columns": null,
            "grid_template_rows": null,
            "height": null,
            "justify_content": null,
            "justify_items": null,
            "left": null,
            "margin": null,
            "max_height": null,
            "max_width": null,
            "min_height": null,
            "min_width": null,
            "object_fit": null,
            "object_position": null,
            "order": null,
            "overflow": null,
            "overflow_x": null,
            "overflow_y": null,
            "padding": null,
            "right": null,
            "top": null,
            "visibility": null,
            "width": null
          }
        },
        "49345a1a6c2a433abd6c7e0c132a079e": {
          "model_module": "@jupyter-widgets/controls",
          "model_name": "DescriptionStyleModel",
          "model_module_version": "1.5.0",
          "state": {
            "_model_module": "@jupyter-widgets/controls",
            "_model_module_version": "1.5.0",
            "_model_name": "DescriptionStyleModel",
            "_view_count": null,
            "_view_module": "@jupyter-widgets/base",
            "_view_module_version": "1.2.0",
            "_view_name": "StyleView",
            "description_width": ""
          }
        }
      }
    },
    "accelerator": "GPU"
  },
  "cells": [
    {
      "cell_type": "markdown",
      "metadata": {
        "id": "view-in-github",
        "colab_type": "text"
      },
      "source": [
        "<a href=\"https://colab.research.google.com/github/recmit/podcast-reviews-sentiment/blob/main/vader_bert_sentiment.ipynb\" target=\"_parent\"><img src=\"https://colab.research.google.com/assets/colab-badge.svg\" alt=\"Open In Colab\"/></a>"
      ]
    },
    {
      "cell_type": "code",
      "source": [
        "!pip install -qq transformers watermark vaderSentiment emoji datasets evaluate pickle5"
      ],
      "metadata": {
        "id": "9h3r7GboRCP_",
        "colab": {
          "base_uri": "https://localhost:8080/"
        },
        "outputId": "18609df9-5c0d-4138-af53-eb0dd05a5d99"
      },
      "execution_count": null,
      "outputs": [
        {
          "output_type": "stream",
          "name": "stdout",
          "text": [
            "\u001b[K     |████████████████████████████████| 5.3 MB 4.7 MB/s \n",
            "\u001b[K     |████████████████████████████████| 125 kB 11.3 MB/s \n",
            "\u001b[K     |████████████████████████████████| 216 kB 68.8 MB/s \n",
            "\u001b[K     |████████████████████████████████| 441 kB 58.5 MB/s \n",
            "\u001b[K     |████████████████████████████████| 72 kB 1.9 MB/s \n",
            "\u001b[K     |████████████████████████████████| 256 kB 72.1 MB/s \n",
            "\u001b[K     |████████████████████████████████| 7.6 MB 50.2 MB/s \n",
            "\u001b[K     |████████████████████████████████| 163 kB 51.1 MB/s \n",
            "\u001b[K     |████████████████████████████████| 115 kB 54.5 MB/s \n",
            "\u001b[K     |████████████████████████████████| 212 kB 54.7 MB/s \n",
            "\u001b[K     |████████████████████████████████| 127 kB 33.0 MB/s \n",
            "\u001b[K     |████████████████████████████████| 1.6 MB 46.5 MB/s \n",
            "\u001b[?25h  Building wheel for emoji (setup.py) ... \u001b[?25l\u001b[?25hdone\n"
          ]
        }
      ]
    },
    {
      "cell_type": "code",
      "execution_count": null,
      "metadata": {
        "id": "jtbjH8LxItz0"
      },
      "outputs": [],
      "source": [
        "from functools import partial\n",
        "import os\n",
        "\n",
        "import pickle5 as pickle\n",
        "\n",
        "import pandas as pd\n",
        "import numpy as np\n",
        "from sklearn.model_selection import train_test_split\n",
        "from sklearn.metrics import recall_score, accuracy_score\n",
        "import matplotlib.pyplot as plt\n",
        "from matplotlib import rcParams\n",
        "import seaborn as sns\n",
        "\n",
        "import vaderSentiment\n",
        "from vaderSentiment.vaderSentiment import SentimentIntensityAnalyzer\n",
        "import emoji\n",
        "import sqlite3\n",
        "\n",
        "import torch\n",
        "from torch import nn, optim\n",
        "from torch.utils.data import DataLoader\n",
        "import torch.nn.functional as F\n",
        "\n",
        "# Hugging Face\n",
        "import transformers\n",
        "from transformers import AutoModelForSequenceClassification, AutoTokenizer, DataCollatorWithPadding, get_scheduler, TrainingArguments, Trainer\n",
        "from datasets import Dataset, DatasetDict\n",
        "import evaluate\n",
        "\n",
        "from tqdm.auto import tqdm"
      ]
    },
    {
      "cell_type": "code",
      "source": [
        "%matplotlib inline\n",
        "%config InlineBackend.figure_format='retina'\n",
        "sns.set(style='whitegrid', palette='muted', font_scale=1.2)\n",
        "rcParams['figure.figsize'] = 12, 8\n",
        "\n",
        "RANDOM_SEED = 42\n",
        "np.random.seed(RANDOM_SEED)\n",
        "torch.manual_seed(RANDOM_SEED)\n",
        "\n",
        "device = torch.device('cuda:0'  if torch.cuda.is_available() else 'cpu')\n",
        "\n",
        "FINETUNED_SST = 'distilbert-base-uncased-finetuned-sst-2-english'\n",
        "PRETRAINED = 'distilbert-base-uncased'"
      ],
      "metadata": {
        "id": "o0IWVQRPqvVb"
      },
      "execution_count": null,
      "outputs": []
    },
    {
      "cell_type": "code",
      "source": [
        "%load_ext watermark\n",
        "%watermark --iversions"
      ],
      "metadata": {
        "colab": {
          "base_uri": "https://localhost:8080/"
        },
        "id": "gilVSC8Y_PLh",
        "outputId": "157f0633-43bb-45b1-ceff-7d163afeef3a"
      },
      "execution_count": null,
      "outputs": [
        {
          "output_type": "stream",
          "name": "stdout",
          "text": [
            "torch         : 1.12.1+cu113\n",
            "vaderSentiment: 3.3.2\n",
            "numpy         : 1.21.6\n",
            "pandas        : 1.3.5\n",
            "evaluate      : 0.3.0\n",
            "sqlite3       : 2.6.0\n",
            "transformers  : 4.23.1\n",
            "emoji         : 2.1.0\n",
            "seaborn       : 0.11.2\n",
            "matplotlib    : 3.2.2\n",
            "pickle5       : 0.0.12\n",
            "\n"
          ]
        }
      ]
    },
    {
      "cell_type": "code",
      "source": [
        "if device.type == 'cuda':\n",
        "  print(device.type, torch.cuda.get_device_name())\n",
        "else:\n",
        "  print(device.type)"
      ],
      "metadata": {
        "id": "DUBxVZWD7bg6",
        "colab": {
          "base_uri": "https://localhost:8080/"
        },
        "outputId": "e2e8d2df-708c-4222-a782-5821b4e096f1"
      },
      "execution_count": null,
      "outputs": [
        {
          "output_type": "stream",
          "name": "stdout",
          "text": [
            "cuda Tesla T4\n"
          ]
        }
      ]
    },
    {
      "cell_type": "code",
      "source": [
        "from google.colab import drive\n",
        "\n",
        "drive.mount('/content/drive')\n",
        "\n",
        "PATH = 'drive/MyDrive/ml-projects/podcast-reviews/'"
      ],
      "metadata": {
        "colab": {
          "base_uri": "https://localhost:8080/"
        },
        "id": "n-buUEoNEOjM",
        "outputId": "40d79349-3493-4824-e343-1980a8b2d3d0"
      },
      "execution_count": null,
      "outputs": [
        {
          "output_type": "stream",
          "name": "stdout",
          "text": [
            "Mounted at /content/drive\n"
          ]
        }
      ]
    },
    {
      "cell_type": "markdown",
      "source": [
        "# Comparing the Sentiment of Reviews and Ratings, with VADER and BERT\n",
        "\n",
        "In another notebook we trained a collaborative filtering recommender using a million star ratings from Apple Podcasts. We didn't use the **content of the reviews**, but they are an additional source of signal of user preference. Some of that signal can be extracted using **sentiment analysis** and could then be used to train a recommender system.\n",
        "\n",
        "The sentiment of each review is (of course) highly correlated with the rating given by the user, but **this correlation is not absolute**. For example, there are some 1 star ratings for which the review text nonetheless clearly reflects a positive user preference, but the user rated it with 1 star to bring attention to some complaint: issues with the sound, or even that no new episodes have been released in a while. The recommender which is only trained on the ratings will miss these distinctions.\n",
        "\n",
        "We will **compare two different sentiment analysis techniques**.\n",
        "\n",
        "### VADER\n",
        "First we look **VADER**. This method associates a sentiment score to each text, which ranges from -1 for very negative text to 1 for very positive text (there are multiple scores but we use the compound score). To classify the reviews by sentiment we will need to set thresholds for this score.\n",
        "\n",
        "VAADER consists of a bag of words approach *modified* by some heuristic rules.  The *bag of words* part refers to getting the score of a review simply by *adding* the scores of the individual words. Note that this approach would disregard the order of the words, so we can think of the words as being randomly shuffled in a metaphorical bag (of words). The problem with such a simplistic approach is that the order of the words actually matter quite a bit. This is why VADER adds some useful heuristics which take into account the order of the words to *some* extent. For example, \"not\" appearing closely before a word inverts the polarity of that word. The rules are explained in the original [paper](http://eegilbert.org/papers/icwsm14.vader.hutto.pdf), which is very well written and worth a read.\n",
        "\n",
        "### BERT\n",
        "\n",
        "The other method we will use is based on the newer and very popular BERT transformer (clearly ML researchers love puns). More precisely we will use **distilBERT**, a smaller version which is almost as precise but more efficient in both time and memory thanks to [knowledge distillation](https://en.wikipedia.org/wiki/Knowledge_distillation). What makes BERT so popular is that it was of the first large language model that was made widely accessible for people to fine-tune for their own NLP tasks. This allows us to take advantage of the enormous resources spent by Google in training BERT with general text data and simply fine-tune it for our particular use case in just hours or even minutes on a single GPU.\n",
        "\n",
        "On Hugging Face there is a distilBERT transfomer which has already been fine-tuned for the task of sentiment analysis. They used a variation of the [Stanford Sentiment Treebank](https://nlp.stanford.edu/sentiment/) (SST), called **SST2**. SST consists of sentences from movie reviews which have been annotated by human judges (giving sentiment scores between 0 and 1 with a slider). In the SST2 version the labels are binary (0 or 1) instead of floats.\n",
        "\n",
        "In this notebook we will compare VADER to the distilBERT model fine-tuned on SST2. In a *separate* notebook we will **fine-tune the original pretrained distilBERT** ourselves on this podcast reviews dataset.\n",
        "\n",
        "Fine-tuning the model ourselves will result in significantly better predictions of the sentiment, or at least the sentiment reflected by the ratings (which are our labels for training).\n",
        "\n",
        "On the flip side, using the model fine-tuned on SST2 allows us to explore the sentiment associated with the various reviews *independently* from the ratings. We mentioned above that some 1 star ratings are actually just constructive feedback and the review content itself is mostly positive. The model trained on a different dataset (like SST2) is more likely classify those as being positive despite the low rating. In contrast, the model we train on the podcast reviews will learn to correlate the sentiment predictions with the star ratings as much as possible."
      ],
      "metadata": {
        "id": "EH2ARTancys6"
      }
    },
    {
      "cell_type": "markdown",
      "source": [
        "## 1. Sentiment Analysis with VADER\n",
        "\n",
        "VADER relies on a lexicon of words, each with an associated polarity score. There are actually multiple scores but we will use **compound score**, which ranges from -1 (very negative) to 1 (very positive), and can be anywhere in between depending on the intensity of the sentiment. As mentioned in the introduction, the score of a sentence is roughly given by adding the scores of the individual words up, *except* that there are some heuristic rules. One such rule is inverting the score of a word if it is preceded by \"not\". Considering how simple this method is, it works surprisingly well. One helpful feature is that **the sentiment lexicon even contains emojis**, which are used in many reviews."
      ],
      "metadata": {
        "id": "E4xbJgE6zKS6"
      }
    },
    {
      "cell_type": "markdown",
      "source": [
        "### 1.1 Load and Explore Data\n",
        "\n",
        "In this section we:\n",
        "- Load the data from an SQLite file.\n",
        "- Compute the VADER polarity score of the reviews.\n",
        "- Visualize the score distribution.\n",
        "- \"Demojize\" the reviews (for distilBERT).\n",
        "- Save the polarity scores and demojized reviews with Pickle."
      ],
      "metadata": {
        "id": "P4K1DAgFyOTj"
      }
    },
    {
      "cell_type": "markdown",
      "source": [
        "First we need to load the data and save it in a Pandas DataFrame."
      ],
      "metadata": {
        "id": "wmN7M-law8cA"
      }
    },
    {
      "cell_type": "code",
      "source": [
        "with sqlite3.connect(os.path.join(PATH, 'data', 'database.sqlite')) as con:\n",
        "  get_reviews = \"\"\"SELECT author_id AS user_id, p.podcast_id, r.title, r.content, rating, p.title AS name, created_at\n",
        "                              FROM podcasts p\n",
        "                              INNER JOIN reviews r\n",
        "                              USING(podcast_id)\n",
        "                              \"\"\"\n",
        "  reviews_raw = pd.read_sql(get_reviews, con, parse_dates='created_at')"
      ],
      "metadata": {
        "id": "9mBXbvsU_CP9"
      },
      "execution_count": null,
      "outputs": []
    },
    {
      "cell_type": "markdown",
      "source": [
        "Next we will compute the polarity score for each review. We use the SentimentIntensityAnalyzer from vaderSentiment. The polarity score has multiple components but we only need the **compound score**."
      ],
      "metadata": {
        "id": "hKzavAsgvzfx"
      }
    },
    {
      "cell_type": "code",
      "source": [
        "def polarity_score(text):\n",
        "  sia = SentimentIntensityAnalyzer()\n",
        "  return sia.polarity_scores(text)['compound']"
      ],
      "metadata": {
        "id": "VkCt0mBQVW8b"
      },
      "execution_count": null,
      "outputs": []
    },
    {
      "cell_type": "code",
      "source": [
        "polarity_score('I did not hate the movie.')"
      ],
      "metadata": {
        "id": "UnH6HJUXAXcI",
        "colab": {
          "base_uri": "https://localhost:8080/"
        },
        "outputId": "dfc63ba8-6914-48d6-f369-429591f716e1"
      },
      "execution_count": null,
      "outputs": [
        {
          "output_type": "execute_result",
          "data": {
            "text/plain": [
              "0.4585"
            ]
          },
          "metadata": {},
          "execution_count": 10
        }
      ]
    },
    {
      "cell_type": "markdown",
      "source": [
        "It even works on emojis! This is actually relevant here because some podcast reviews contain emojis."
      ],
      "metadata": {
        "id": "IY8_b0dux9uK"
      }
    },
    {
      "cell_type": "code",
      "source": [
        "polarity_score('😊')"
      ],
      "metadata": {
        "id": "1O0iJZnFAS6d",
        "colab": {
          "base_uri": "https://localhost:8080/"
        },
        "outputId": "b757e853-74c9-465b-c241-c7579dfc0653"
      },
      "execution_count": null,
      "outputs": [
        {
          "output_type": "execute_result",
          "data": {
            "text/plain": [
              "0.7184"
            ]
          },
          "metadata": {},
          "execution_count": 11
        }
      ]
    },
    {
      "cell_type": "markdown",
      "source": [
        "Two smiley faces are better than one:"
      ],
      "metadata": {
        "id": "2TvTg73yxyVH"
      }
    },
    {
      "cell_type": "code",
      "source": [
        "polarity_score('😊😊')"
      ],
      "metadata": {
        "colab": {
          "base_uri": "https://localhost:8080/"
        },
        "id": "xqJNJrAzFq5G",
        "outputId": "49bf3c9a-426a-43c2-9014-0d443fec4f36"
      },
      "execution_count": null,
      "outputs": [
        {
          "output_type": "execute_result",
          "data": {
            "text/plain": [
              "0.9001"
            ]
          },
          "metadata": {},
          "execution_count": 12
        }
      ]
    },
    {
      "cell_type": "markdown",
      "source": [
        "To compute one polarity score per review we will concatenate the title and the body of the review:"
      ],
      "metadata": {
        "id": "im7W-6OwyF6U"
      }
    },
    {
      "cell_type": "code",
      "source": [
        "reviews_raw['review'] = reviews_raw['title'] + '. ' + reviews_raw['content']"
      ],
      "metadata": {
        "id": "2QPPRC_yNzOO"
      },
      "execution_count": null,
      "outputs": []
    },
    {
      "cell_type": "markdown",
      "source": [
        "Now we compute the polarity score for all one million reviews, which takes a few minutes!"
      ],
      "metadata": {
        "id": "T5SqlfmHyPFu"
      }
    },
    {
      "cell_type": "code",
      "source": [
        "reviews_raw['polarity score'] = reviews_raw['review'].apply(polarity_score)"
      ],
      "metadata": {
        "id": "4qydurR-Vkyp"
      },
      "execution_count": null,
      "outputs": []
    },
    {
      "cell_type": "markdown",
      "source": [
        "To feed the reviews to distilBERT later we need to convert emojis to text. Otherwise, they will be tokenized as 'unkown' and the information will be lost. We use the `emoji` Python package."
      ],
      "metadata": {
        "id": "YCCEgO7zBrCF"
      }
    },
    {
      "cell_type": "code",
      "source": [
        "reviews_raw['demojized review'] = reviews_raw['review'].apply(emoji.demojize)"
      ],
      "metadata": {
        "id": "bxaSc7SwTr9H"
      },
      "execution_count": null,
      "outputs": []
    },
    {
      "cell_type": "markdown",
      "source": [
        "We pickle the reviews dataframe to use in other notebooks. It also makes our life easier because we don't have to repeat the computation of the polarity score (which takes over 15 minutes) every time we start a new session."
      ],
      "metadata": {
        "id": "HnHSsjBu5Pvf"
      }
    },
    {
      "cell_type": "code",
      "source": [
        "reviews_raw.to_pickle(os.path.join(PATH, 'data', 'reviews_raw_sentiment.pkl'))"
      ],
      "metadata": {
        "id": "Ka50Xwtm4x_L"
      },
      "execution_count": null,
      "outputs": []
    },
    {
      "cell_type": "code",
      "source": [
        "reviews_raw = pd.read_pickle(os.path.join(PATH, 'data', 'reviews_raw_sentiment.pkl'))"
      ],
      "metadata": {
        "id": "PxccPW7B5CKp"
      },
      "execution_count": null,
      "outputs": []
    },
    {
      "cell_type": "code",
      "source": [
        "reviews_raw.head(2)"
      ],
      "metadata": {
        "colab": {
          "base_uri": "https://localhost:8080/",
          "height": 208
        },
        "id": "mvT4nD88o11V",
        "outputId": "d11f38dc-c4d2-4170-914d-d0cce896b449"
      },
      "execution_count": null,
      "outputs": [
        {
          "output_type": "execute_result",
          "data": {
            "text/plain": [
              "           user_id                        podcast_id  \\\n",
              "0  F7E5A318989779D  c61aa81c9b929a66f0c1db6cbe5d8548   \n",
              "1  F6BF5472689BD12  c61aa81c9b929a66f0c1db6cbe5d8548   \n",
              "\n",
              "                                              title  \\\n",
              "0                               really interesting!   \n",
              "1  Must listen for anyone interested in the arts!!!   \n",
              "\n",
              "                                             content  rating  \\\n",
              "0  Thanks for providing these insights.  Really e...       5   \n",
              "1  Super excited to see this podcast grow. So man...       5   \n",
              "\n",
              "                         name                created_at  \\\n",
              "0  Backstage at Tilles Center 2018-04-24 12:05:16-07:00   \n",
              "1  Backstage at Tilles Center 2018-05-09 18:14:32-07:00   \n",
              "\n",
              "                                              review  polarity score  \\\n",
              "0  really interesting!. Thanks for providing thes...          0.9109   \n",
              "1  Must listen for anyone interested in the arts!...          0.9739   \n",
              "\n",
              "                                    demojized review  \n",
              "0  really interesting!. Thanks for providing thes...  \n",
              "1  Must listen for anyone interested in the arts!...  "
            ],
            "text/html": [
              "\n",
              "  <div id=\"df-ec465d5c-c0e1-416f-8af1-653192915dfa\">\n",
              "    <div class=\"colab-df-container\">\n",
              "      <div>\n",
              "<style scoped>\n",
              "    .dataframe tbody tr th:only-of-type {\n",
              "        vertical-align: middle;\n",
              "    }\n",
              "\n",
              "    .dataframe tbody tr th {\n",
              "        vertical-align: top;\n",
              "    }\n",
              "\n",
              "    .dataframe thead th {\n",
              "        text-align: right;\n",
              "    }\n",
              "</style>\n",
              "<table border=\"1\" class=\"dataframe\">\n",
              "  <thead>\n",
              "    <tr style=\"text-align: right;\">\n",
              "      <th></th>\n",
              "      <th>user_id</th>\n",
              "      <th>podcast_id</th>\n",
              "      <th>title</th>\n",
              "      <th>content</th>\n",
              "      <th>rating</th>\n",
              "      <th>name</th>\n",
              "      <th>created_at</th>\n",
              "      <th>review</th>\n",
              "      <th>polarity score</th>\n",
              "      <th>demojized review</th>\n",
              "    </tr>\n",
              "  </thead>\n",
              "  <tbody>\n",
              "    <tr>\n",
              "      <th>0</th>\n",
              "      <td>F7E5A318989779D</td>\n",
              "      <td>c61aa81c9b929a66f0c1db6cbe5d8548</td>\n",
              "      <td>really interesting!</td>\n",
              "      <td>Thanks for providing these insights.  Really e...</td>\n",
              "      <td>5</td>\n",
              "      <td>Backstage at Tilles Center</td>\n",
              "      <td>2018-04-24 12:05:16-07:00</td>\n",
              "      <td>really interesting!. Thanks for providing thes...</td>\n",
              "      <td>0.9109</td>\n",
              "      <td>really interesting!. Thanks for providing thes...</td>\n",
              "    </tr>\n",
              "    <tr>\n",
              "      <th>1</th>\n",
              "      <td>F6BF5472689BD12</td>\n",
              "      <td>c61aa81c9b929a66f0c1db6cbe5d8548</td>\n",
              "      <td>Must listen for anyone interested in the arts!!!</td>\n",
              "      <td>Super excited to see this podcast grow. So man...</td>\n",
              "      <td>5</td>\n",
              "      <td>Backstage at Tilles Center</td>\n",
              "      <td>2018-05-09 18:14:32-07:00</td>\n",
              "      <td>Must listen for anyone interested in the arts!...</td>\n",
              "      <td>0.9739</td>\n",
              "      <td>Must listen for anyone interested in the arts!...</td>\n",
              "    </tr>\n",
              "  </tbody>\n",
              "</table>\n",
              "</div>\n",
              "      <button class=\"colab-df-convert\" onclick=\"convertToInteractive('df-ec465d5c-c0e1-416f-8af1-653192915dfa')\"\n",
              "              title=\"Convert this dataframe to an interactive table.\"\n",
              "              style=\"display:none;\">\n",
              "        \n",
              "  <svg xmlns=\"http://www.w3.org/2000/svg\" height=\"24px\"viewBox=\"0 0 24 24\"\n",
              "       width=\"24px\">\n",
              "    <path d=\"M0 0h24v24H0V0z\" fill=\"none\"/>\n",
              "    <path d=\"M18.56 5.44l.94 2.06.94-2.06 2.06-.94-2.06-.94-.94-2.06-.94 2.06-2.06.94zm-11 1L8.5 8.5l.94-2.06 2.06-.94-2.06-.94L8.5 2.5l-.94 2.06-2.06.94zm10 10l.94 2.06.94-2.06 2.06-.94-2.06-.94-.94-2.06-.94 2.06-2.06.94z\"/><path d=\"M17.41 7.96l-1.37-1.37c-.4-.4-.92-.59-1.43-.59-.52 0-1.04.2-1.43.59L10.3 9.45l-7.72 7.72c-.78.78-.78 2.05 0 2.83L4 21.41c.39.39.9.59 1.41.59.51 0 1.02-.2 1.41-.59l7.78-7.78 2.81-2.81c.8-.78.8-2.07 0-2.86zM5.41 20L4 18.59l7.72-7.72 1.47 1.35L5.41 20z\"/>\n",
              "  </svg>\n",
              "      </button>\n",
              "      \n",
              "  <style>\n",
              "    .colab-df-container {\n",
              "      display:flex;\n",
              "      flex-wrap:wrap;\n",
              "      gap: 12px;\n",
              "    }\n",
              "\n",
              "    .colab-df-convert {\n",
              "      background-color: #E8F0FE;\n",
              "      border: none;\n",
              "      border-radius: 50%;\n",
              "      cursor: pointer;\n",
              "      display: none;\n",
              "      fill: #1967D2;\n",
              "      height: 32px;\n",
              "      padding: 0 0 0 0;\n",
              "      width: 32px;\n",
              "    }\n",
              "\n",
              "    .colab-df-convert:hover {\n",
              "      background-color: #E2EBFA;\n",
              "      box-shadow: 0px 1px 2px rgba(60, 64, 67, 0.3), 0px 1px 3px 1px rgba(60, 64, 67, 0.15);\n",
              "      fill: #174EA6;\n",
              "    }\n",
              "\n",
              "    [theme=dark] .colab-df-convert {\n",
              "      background-color: #3B4455;\n",
              "      fill: #D2E3FC;\n",
              "    }\n",
              "\n",
              "    [theme=dark] .colab-df-convert:hover {\n",
              "      background-color: #434B5C;\n",
              "      box-shadow: 0px 1px 3px 1px rgba(0, 0, 0, 0.15);\n",
              "      filter: drop-shadow(0px 1px 2px rgba(0, 0, 0, 0.3));\n",
              "      fill: #FFFFFF;\n",
              "    }\n",
              "  </style>\n",
              "\n",
              "      <script>\n",
              "        const buttonEl =\n",
              "          document.querySelector('#df-ec465d5c-c0e1-416f-8af1-653192915dfa button.colab-df-convert');\n",
              "        buttonEl.style.display =\n",
              "          google.colab.kernel.accessAllowed ? 'block' : 'none';\n",
              "\n",
              "        async function convertToInteractive(key) {\n",
              "          const element = document.querySelector('#df-ec465d5c-c0e1-416f-8af1-653192915dfa');\n",
              "          const dataTable =\n",
              "            await google.colab.kernel.invokeFunction('convertToInteractive',\n",
              "                                                     [key], {});\n",
              "          if (!dataTable) return;\n",
              "\n",
              "          const docLinkHtml = 'Like what you see? Visit the ' +\n",
              "            '<a target=\"_blank\" href=https://colab.research.google.com/notebooks/data_table.ipynb>data table notebook</a>'\n",
              "            + ' to learn more about interactive tables.';\n",
              "          element.innerHTML = '';\n",
              "          dataTable['output_type'] = 'display_data';\n",
              "          await google.colab.output.renderOutput(dataTable, element);\n",
              "          const docLink = document.createElement('div');\n",
              "          docLink.innerHTML = docLinkHtml;\n",
              "          element.appendChild(docLink);\n",
              "        }\n",
              "      </script>\n",
              "    </div>\n",
              "  </div>\n",
              "  "
            ]
          },
          "metadata": {},
          "execution_count": 18
        }
      ]
    },
    {
      "cell_type": "markdown",
      "source": [
        "Having a look at the reviews, we see that VADER does catch some reviews that show the **user actually likes the podcast but has some minor complaint** to make. In that sense, one could use VADER to get the true user preference, which the rating is not reflecting correctly in those cases. \n",
        "\n",
        "The following is an example of such a review. The user clearly likes the podcast yet left a 1 star rating.\n"
      ],
      "metadata": {
        "id": "ehJy7TWoZRFN"
      }
    },
    {
      "cell_type": "code",
      "source": [
        "reviews_raw.loc[9, 'content'], reviews_raw.loc[9, 'rating']"
      ],
      "metadata": {
        "colab": {
          "base_uri": "https://localhost:8080/"
        },
        "id": "TbbUq_dI6soL",
        "outputId": "979c965d-d6b2-4dd0-c5d3-8f3439b8e415"
      },
      "execution_count": null,
      "outputs": [
        {
          "output_type": "execute_result",
          "data": {
            "text/plain": [
              "('Great podcast, but the editors turn the volume down for the talks. The intros are loud, then you have to crank up the volume for the talk.',\n",
              " 1)"
            ]
          },
          "metadata": {},
          "execution_count": 19
        }
      ]
    },
    {
      "cell_type": "markdown",
      "source": [
        "\n",
        "However, VADER exhibits a **positivity bias** and classifies many clearly negative reviews as positive. Because of this, it is probably not precise enough to give a useful signal of user preference in addition to the user rating. We will see that the sentiment predicted by the distilBERT model is much accurate.\n",
        "\n",
        "Below we visualize the distribution of the VADER sentiment score for negative (1 and 2 star), neutral (3 star) and positive (4 and 5 star) ratings.\n"
      ],
      "metadata": {
        "id": "5uROBlZO3tFW"
      }
    },
    {
      "cell_type": "code",
      "source": [
        "def plot_histograms_by_sentiment(reviews, column_name):\n",
        "  fig, axs = plt.subplots(1, 3, figsize=(12, 4))\n",
        "  sns.histplot(\n",
        "      reviews[reviews['rating'].isin([1, 2])][column_name],\n",
        "      ax=axs[0],\n",
        "      bins=30,\n",
        "      kde=True,\n",
        "  )\n",
        "  sns.histplot(\n",
        "      reviews[reviews['rating'] == 3][column_name],\n",
        "      ax=axs[1],\n",
        "      bins=30,\n",
        "      kde=True,\n",
        "  )\n",
        "  sns.histplot(\n",
        "      reviews[reviews['rating'].isin([4, 5])][column_name],\n",
        "      ax=axs[2],\n",
        "      bins=30,\n",
        "      kde=True,\n",
        "  )\n",
        "  axs[0].set_title('1 and 2 stars')\n",
        "  axs[1].set_title('3 stars')\n",
        "  axs[2].set_title('4 and 5 stars')\n",
        "  fig.tight_layout()\n",
        "plot_histograms_by_sentiment(reviews_raw, 'polarity score')"
      ],
      "metadata": {
        "colab": {
          "base_uri": "https://localhost:8080/",
          "height": 288
        },
        "id": "uCuPUZ8lG7-H",
        "outputId": "076d51e7-9c55-4d4a-c7d7-99d01b2e4bd6"
      },
      "execution_count": null,
      "outputs": [
        {
          "output_type": "display_data",
          "data": {
            "text/plain": [
              "<Figure size 864x288 with 3 Axes>"
            ],
            "image/png": "[encoded data removed]"
          },
          "metadata": {
            "image/png": {
              "width": 847,
              "height": 271
            }
          }
        }
      ]
    },
    {
      "cell_type": "markdown",
      "source": [
        "The histograms clearly show a positivity bias. We see that even for negative ratings the mean sentiment score is just over 0:"
      ],
      "metadata": {
        "id": "mm-WJUiN6y9_"
      }
    },
    {
      "cell_type": "code",
      "source": [
        "neg_mean = reviews_raw[reviews_raw['rating'].isin([1, 2])]['polarity score'].mean()\n",
        "neut_mean = reviews_raw[reviews_raw['rating'] == 3]['polarity score'].mean()\n",
        "pos_mean = reviews_raw[reviews_raw['rating'].isin([4, 5])]['polarity score'].mean()\n",
        "print(\n",
        "  f'The mean VADER compound score for 1 and 2 star reviews is {neg_mean:.2}\\n'\n",
        "  f'The mean VADER compound score for 3 star reviews is {neut_mean:.2}\\n'\n",
        "  f'The mean VADER compound score for 4 and 5 star reviews is {pos_mean:.2}'\n",
        ")"
      ],
      "metadata": {
        "id": "r6E-RkPoiwxd",
        "colab": {
          "base_uri": "https://localhost:8080/"
        },
        "outputId": "a07eb297-e93b-4a2f-e9d4-d771fe2cee6e"
      },
      "execution_count": null,
      "outputs": [
        {
          "output_type": "stream",
          "name": "stdout",
          "text": [
            "The mean VADER compound score for 1 and 2 star reviews is 0.017\n",
            "The mean VADER compound score for 3 star reviews is 0.37\n",
            "The mean VADER compound score for 4 and 5 star reviews is 0.79\n"
          ]
        }
      ]
    },
    {
      "cell_type": "markdown",
      "source": [
        "The peaks at 0 are probably reviews for which VADER can't actually identify the sentiment. Regarding the 0 scores, a word of caution: The histograms can be misleading! The reviews with score 0 seem to be a large proportion for 1 and 2 star ratings, and certainly seem to comprise much smaller proportions for the other rating values. However, we see below that the differences are actually not as dramatic as they might look in the histograms: reviews with score 0 are approximately $4\\%$ for negative ratings, $3\\%$ for neutral ratings, and $2\\%$ for positive ratings."
      ],
      "metadata": {
        "id": "Vx6NX1pe7jRX"
      }
    },
    {
      "cell_type": "code",
      "source": [
        "reviews_raw.groupby('rating').apply(lambda df: (df['polarity score'] == 0).mean())"
      ],
      "metadata": {
        "colab": {
          "base_uri": "https://localhost:8080/"
        },
        "id": "Vehpl97m7nPi",
        "outputId": "2fe135c0-bdf2-490d-a412-b60dc071a6d8"
      },
      "execution_count": null,
      "outputs": [
        {
          "output_type": "execute_result",
          "data": {
            "text/plain": [
              "rating\n",
              "1    0.052295\n",
              "2    0.035327\n",
              "3    0.032470\n",
              "4    0.025381\n",
              "5    0.023363\n",
              "dtype: float64"
            ]
          },
          "metadata": {},
          "execution_count": 22
        }
      ]
    },
    {
      "cell_type": "markdown",
      "source": [
        "\n",
        "### 1.2 Clean Data\n",
        "Some reviews appear to be spam, which is why we will remove reviews by users with suspiciously high review counts. We will also exclude some podcasts for kids because a majority of the \"reviews\" for those podcasts aren't actually reviews. Instead, children appear to be using the reviews as a forum in which to post jokes."
      ],
      "metadata": {
        "id": "fOw7Fj4t4nYi"
      }
    },
    {
      "cell_type": "markdown",
      "source": [
        "Additionally, we are writing two functions to convert both VADER polarity scores and ratings into **sentiment classes**. We will contemplate two possibilities:\n",
        "- Three classes: 0 (negative), 1 (neutral) and 2 (positive).\n",
        "- Binary case: 0 (negative) and 1 (positive).\n",
        "\n",
        "The functions below can handle either case."
      ],
      "metadata": {
        "id": "C2ZrcNyz_K12"
      }
    },
    {
      "cell_type": "code",
      "source": [
        "kids_podcasts = ['Wow in the World', 'Story Pirates', 'Pants on Fire', 'The Official Average Boy Podcast', 'Despicable Me', 'Rebel Girls', 'Fierce Girls', 'Like and Subscribe: A podcast about YouTube culture', 'The Casagrandes Familia Sounds', 'What If World - Stories for Kids', 'Good Night Stories for Rebel Girls', 'Gird Up! Podcast', 'Highlights Hangout', 'Be Calm on Ahway Island Bedtime Stories', 'Smash Boom Best', 'The Cramazingly Incredifun Sugarcrash Kids Podcast']\n",
        "\n",
        "def remove_spammers(reviews, max_reviews=135):\n",
        "    'Remove users with suspiciously high review count.'\n",
        "    mask = reviews.groupby('user_id')['podcast_id'].transform('count') <= max_reviews\n",
        "    return reviews[mask]\n",
        "\n",
        "def rating_to_sentiment(ratings, neutral=True):\n",
        "  sentiments = np.zeros(ratings.shape)\n",
        "  sentiments[ratings == 3] = 1 if neutral else 0\n",
        "  sentiments[ratings > 3] = 2 if neutral else 1\n",
        "  return sentiments\n",
        "\n",
        "def vader_score_to_sentiment(polarity_scores, neg_threshold=0.4, pos_threshold=0.75):\n",
        "  assert neg_threshold <= pos_threshold\n",
        "  sentiments = np.zeros(polarity_scores.shape)\n",
        "  sentiments[polarity_scores > neg_threshold] = 1\n",
        "  if pos_threshold > neg_threshold: # otherwise there is no neutral class\n",
        "    sentiments[polarity_scores > pos_threshold] = 2\n",
        "  return sentiments"
      ],
      "metadata": {
        "id": "fvuvtHZvW5S0"
      },
      "execution_count": null,
      "outputs": []
    },
    {
      "cell_type": "code",
      "source": [
        "reviews_raw['VADER sentiment'] = vader_score_to_sentiment(reviews_raw['polarity score'])\n",
        "reviews_raw['sentiment'] = rating_to_sentiment(reviews_raw['rating'])\n",
        "reviews_raw['binary sentiment'] = rating_to_sentiment(reviews_raw['rating'], neutral=False)"
      ],
      "metadata": {
        "id": "Kkbqh1RR-gAB"
      },
      "execution_count": null,
      "outputs": []
    },
    {
      "cell_type": "markdown",
      "source": [
        "Note that in addition to cleaning the data we are taking a sample consisting of 100,000 reviews. This makes the data more manageable while still being a large enough dataset to be representative when we evaluate our sentiment classifiers. On top of that, **we sample the data in such a way that each star rating is represented equally**, to make sure that classification accuracy isn't skewed in favor of positive ratings, which constitute over $90\\%$ of the original dataset."
      ],
      "metadata": {
        "id": "exdBl-mIB95a"
      }
    },
    {
      "cell_type": "code",
      "source": [
        "reviews_raw['sentiment'].value_counts() / reviews_raw['sentiment'].count()"
      ],
      "metadata": {
        "colab": {
          "base_uri": "https://localhost:8080/"
        },
        "id": "HDkYqnL2Sz2R",
        "outputId": "0995d032-c2cb-4c2e-9661-0647ac6061c0"
      },
      "execution_count": null,
      "outputs": [
        {
          "output_type": "execute_result",
          "data": {
            "text/plain": [
              "2.0    0.905482\n",
              "0.0    0.071179\n",
              "1.0    0.023339\n",
              "Name: sentiment, dtype: float64"
            ]
          },
          "metadata": {},
          "execution_count": 25
        }
      ]
    },
    {
      "cell_type": "markdown",
      "source": [
        "Now we are finally ready to do the cleaning and take a 100,000 reviews sample with equal ratings representation."
      ],
      "metadata": {
        "id": "gIcDSfeOo1lt"
      }
    },
    {
      "cell_type": "code",
      "source": [
        " reviews = (\n",
        "     reviews_raw.query(\"name not in @kids_podcasts\")\n",
        "                .pipe(remove_spammers)\n",
        "                .groupby('rating')\n",
        "                .apply(lambda df: df.sample(n=20000))\n",
        "                .sample(frac=1)\n",
        "                .reset_index(drop=True)\n",
        ")"
      ],
      "metadata": {
        "id": "USLCY5kkKAe0"
      },
      "execution_count": null,
      "outputs": []
    },
    {
      "cell_type": "markdown",
      "source": [
        "### 1.3 Results for VADER Classification into Negative, Neutral, and Positive\n",
        "\n",
        "We used the VADER score to classify reviews into those three classes based on two thresholds (which we tuned by hand to maximize accuracy).\n",
        "\n",
        "The ratings were used as the ground truth sentiment, where 1 and 2 star ratings correspond to negative, 3 star ratings to neutral, and 4 and 5 star ratings to positive.\n",
        "\n",
        "The following is the confusion matrix for the whole (raw) dataset."
      ],
      "metadata": {
        "id": "NwsMLFWV4arM"
      }
    },
    {
      "cell_type": "code",
      "source": [
        "pd.crosstab(reviews_raw['VADER sentiment'], reviews_raw['sentiment'])"
      ],
      "metadata": {
        "id": "N52In_ORWngg",
        "colab": {
          "base_uri": "https://localhost:8080/",
          "height": 175
        },
        "outputId": "1ea1d4c2-decf-4f14-f06c-9bc85e0f9db7"
      },
      "execution_count": null,
      "outputs": [
        {
          "output_type": "execute_result",
          "data": {
            "text/plain": [
              "sentiment          0.0   1.0     2.0\n",
              "VADER sentiment                     \n",
              "0.0              45084  9247   79046\n",
              "1.0              11054  4525  116317\n",
              "2.0              13931  9203  695998"
            ],
            "text/html": [
              "\n",
              "  <div id=\"df-df6e628f-e140-40ac-9b31-26524e3fc533\">\n",
              "    <div class=\"colab-df-container\">\n",
              "      <div>\n",
              "<style scoped>\n",
              "    .dataframe tbody tr th:only-of-type {\n",
              "        vertical-align: middle;\n",
              "    }\n",
              "\n",
              "    .dataframe tbody tr th {\n",
              "        vertical-align: top;\n",
              "    }\n",
              "\n",
              "    .dataframe thead th {\n",
              "        text-align: right;\n",
              "    }\n",
              "</style>\n",
              "<table border=\"1\" class=\"dataframe\">\n",
              "  <thead>\n",
              "    <tr style=\"text-align: right;\">\n",
              "      <th>sentiment</th>\n",
              "      <th>0.0</th>\n",
              "      <th>1.0</th>\n",
              "      <th>2.0</th>\n",
              "    </tr>\n",
              "    <tr>\n",
              "      <th>VADER sentiment</th>\n",
              "      <th></th>\n",
              "      <th></th>\n",
              "      <th></th>\n",
              "    </tr>\n",
              "  </thead>\n",
              "  <tbody>\n",
              "    <tr>\n",
              "      <th>0.0</th>\n",
              "      <td>45084</td>\n",
              "      <td>9247</td>\n",
              "      <td>79046</td>\n",
              "    </tr>\n",
              "    <tr>\n",
              "      <th>1.0</th>\n",
              "      <td>11054</td>\n",
              "      <td>4525</td>\n",
              "      <td>116317</td>\n",
              "    </tr>\n",
              "    <tr>\n",
              "      <th>2.0</th>\n",
              "      <td>13931</td>\n",
              "      <td>9203</td>\n",
              "      <td>695998</td>\n",
              "    </tr>\n",
              "  </tbody>\n",
              "</table>\n",
              "</div>\n",
              "      <button class=\"colab-df-convert\" onclick=\"convertToInteractive('df-df6e628f-e140-40ac-9b31-26524e3fc533')\"\n",
              "              title=\"Convert this dataframe to an interactive table.\"\n",
              "              style=\"display:none;\">\n",
              "        \n",
              "  <svg xmlns=\"http://www.w3.org/2000/svg\" height=\"24px\"viewBox=\"0 0 24 24\"\n",
              "       width=\"24px\">\n",
              "    <path d=\"M0 0h24v24H0V0z\" fill=\"none\"/>\n",
              "    <path d=\"M18.56 5.44l.94 2.06.94-2.06 2.06-.94-2.06-.94-.94-2.06-.94 2.06-2.06.94zm-11 1L8.5 8.5l.94-2.06 2.06-.94-2.06-.94L8.5 2.5l-.94 2.06-2.06.94zm10 10l.94 2.06.94-2.06 2.06-.94-2.06-.94-.94-2.06-.94 2.06-2.06.94z\"/><path d=\"M17.41 7.96l-1.37-1.37c-.4-.4-.92-.59-1.43-.59-.52 0-1.04.2-1.43.59L10.3 9.45l-7.72 7.72c-.78.78-.78 2.05 0 2.83L4 21.41c.39.39.9.59 1.41.59.51 0 1.02-.2 1.41-.59l7.78-7.78 2.81-2.81c.8-.78.8-2.07 0-2.86zM5.41 20L4 18.59l7.72-7.72 1.47 1.35L5.41 20z\"/>\n",
              "  </svg>\n",
              "      </button>\n",
              "      \n",
              "  <style>\n",
              "    .colab-df-container {\n",
              "      display:flex;\n",
              "      flex-wrap:wrap;\n",
              "      gap: 12px;\n",
              "    }\n",
              "\n",
              "    .colab-df-convert {\n",
              "      background-color: #E8F0FE;\n",
              "      border: none;\n",
              "      border-radius: 50%;\n",
              "      cursor: pointer;\n",
              "      display: none;\n",
              "      fill: #1967D2;\n",
              "      height: 32px;\n",
              "      padding: 0 0 0 0;\n",
              "      width: 32px;\n",
              "    }\n",
              "\n",
              "    .colab-df-convert:hover {\n",
              "      background-color: #E2EBFA;\n",
              "      box-shadow: 0px 1px 2px rgba(60, 64, 67, 0.3), 0px 1px 3px 1px rgba(60, 64, 67, 0.15);\n",
              "      fill: #174EA6;\n",
              "    }\n",
              "\n",
              "    [theme=dark] .colab-df-convert {\n",
              "      background-color: #3B4455;\n",
              "      fill: #D2E3FC;\n",
              "    }\n",
              "\n",
              "    [theme=dark] .colab-df-convert:hover {\n",
              "      background-color: #434B5C;\n",
              "      box-shadow: 0px 1px 3px 1px rgba(0, 0, 0, 0.15);\n",
              "      filter: drop-shadow(0px 1px 2px rgba(0, 0, 0, 0.3));\n",
              "      fill: #FFFFFF;\n",
              "    }\n",
              "  </style>\n",
              "\n",
              "      <script>\n",
              "        const buttonEl =\n",
              "          document.querySelector('#df-df6e628f-e140-40ac-9b31-26524e3fc533 button.colab-df-convert');\n",
              "        buttonEl.style.display =\n",
              "          google.colab.kernel.accessAllowed ? 'block' : 'none';\n",
              "\n",
              "        async function convertToInteractive(key) {\n",
              "          const element = document.querySelector('#df-df6e628f-e140-40ac-9b31-26524e3fc533');\n",
              "          const dataTable =\n",
              "            await google.colab.kernel.invokeFunction('convertToInteractive',\n",
              "                                                     [key], {});\n",
              "          if (!dataTable) return;\n",
              "\n",
              "          const docLinkHtml = 'Like what you see? Visit the ' +\n",
              "            '<a target=\"_blank\" href=https://colab.research.google.com/notebooks/data_table.ipynb>data table notebook</a>'\n",
              "            + ' to learn more about interactive tables.';\n",
              "          element.innerHTML = '';\n",
              "          dataTable['output_type'] = 'display_data';\n",
              "          await google.colab.output.renderOutput(dataTable, element);\n",
              "          const docLink = document.createElement('div');\n",
              "          docLink.innerHTML = docLinkHtml;\n",
              "          element.appendChild(docLink);\n",
              "        }\n",
              "      </script>\n",
              "    </div>\n",
              "  </div>\n",
              "  "
            ]
          },
          "metadata": {},
          "execution_count": 27
        }
      ]
    },
    {
      "cell_type": "code",
      "source": [
        "accuracy_score(reviews_raw['sentiment'], reviews_raw['VADER sentiment'])"
      ],
      "metadata": {
        "colab": {
          "base_uri": "https://localhost:8080/"
        },
        "id": "NQJtjC1Te0x_",
        "outputId": "f81467b4-66b3-417e-8f01-370b082abfee"
      },
      "execution_count": null,
      "outputs": [
        {
          "output_type": "execute_result",
          "data": {
            "text/plain": [
              "0.757418948501887"
            ]
          },
          "metadata": {},
          "execution_count": 28
        }
      ]
    },
    {
      "cell_type": "markdown",
      "source": [
        "The accuracy is relatively high but this can be misleading because in the original dataframe `reviews_raw` over $90\\%$ of ratings are positive.\n",
        "\n",
        "The recall shows that the classification is no better than chance when restricted to neutral reviews (if we picked a rating at random we would get 3 stars, i.e. neutral, $20\\%$ of the time, although the fact that the recall is $19.7\\%$ is probably a coincidence)."
      ],
      "metadata": {
        "id": "Ov661dSNAmgy"
      }
    },
    {
      "cell_type": "code",
      "source": [
        "recall_score(reviews_raw['sentiment'], reviews_raw['VADER sentiment'], average=None)"
      ],
      "metadata": {
        "colab": {
          "base_uri": "https://localhost:8080/"
        },
        "id": "XWlsAkbTd1KR",
        "outputId": "c894bd38-03c2-43ca-d339-04de2b5263f1"
      },
      "execution_count": null,
      "outputs": [
        {
          "output_type": "execute_result",
          "data": {
            "text/plain": [
              "array([0.64342291, 0.19695321, 0.78082617])"
            ]
          },
          "metadata": {},
          "execution_count": 29
        }
      ]
    },
    {
      "cell_type": "markdown",
      "source": [
        "The accuracy on the cleaned data in `reviews` is less misleading because we made sure that all ratings are equally represented with 20,000 reviews each:"
      ],
      "metadata": {
        "id": "GVMmP-vv4aku"
      }
    },
    {
      "cell_type": "code",
      "source": [
        "pd.crosstab(reviews['VADER sentiment'], reviews['sentiment'])"
      ],
      "metadata": {
        "colab": {
          "base_uri": "https://localhost:8080/",
          "height": 175
        },
        "outputId": "0d8158b3-3bb1-4468-93e3-9685e551729c",
        "id": "_j7ICVG8hWNb"
      },
      "execution_count": null,
      "outputs": [
        {
          "output_type": "execute_result",
          "data": {
            "text/plain": [
              "sentiment          0.0   1.0    2.0\n",
              "VADER sentiment                    \n",
              "0.0              24394  8080   5497\n",
              "1.0               6680  3930   6007\n",
              "2.0               8926  7990  28496"
            ],
            "text/html": [
              "\n",
              "  <div id=\"df-89158054-9c1f-4fee-b046-228a9f8952a5\">\n",
              "    <div class=\"colab-df-container\">\n",
              "      <div>\n",
              "<style scoped>\n",
              "    .dataframe tbody tr th:only-of-type {\n",
              "        vertical-align: middle;\n",
              "    }\n",
              "\n",
              "    .dataframe tbody tr th {\n",
              "        vertical-align: top;\n",
              "    }\n",
              "\n",
              "    .dataframe thead th {\n",
              "        text-align: right;\n",
              "    }\n",
              "</style>\n",
              "<table border=\"1\" class=\"dataframe\">\n",
              "  <thead>\n",
              "    <tr style=\"text-align: right;\">\n",
              "      <th>sentiment</th>\n",
              "      <th>0.0</th>\n",
              "      <th>1.0</th>\n",
              "      <th>2.0</th>\n",
              "    </tr>\n",
              "    <tr>\n",
              "      <th>VADER sentiment</th>\n",
              "      <th></th>\n",
              "      <th></th>\n",
              "      <th></th>\n",
              "    </tr>\n",
              "  </thead>\n",
              "  <tbody>\n",
              "    <tr>\n",
              "      <th>0.0</th>\n",
              "      <td>24394</td>\n",
              "      <td>8080</td>\n",
              "      <td>5497</td>\n",
              "    </tr>\n",
              "    <tr>\n",
              "      <th>1.0</th>\n",
              "      <td>6680</td>\n",
              "      <td>3930</td>\n",
              "      <td>6007</td>\n",
              "    </tr>\n",
              "    <tr>\n",
              "      <th>2.0</th>\n",
              "      <td>8926</td>\n",
              "      <td>7990</td>\n",
              "      <td>28496</td>\n",
              "    </tr>\n",
              "  </tbody>\n",
              "</table>\n",
              "</div>\n",
              "      <button class=\"colab-df-convert\" onclick=\"convertToInteractive('df-89158054-9c1f-4fee-b046-228a9f8952a5')\"\n",
              "              title=\"Convert this dataframe to an interactive table.\"\n",
              "              style=\"display:none;\">\n",
              "        \n",
              "  <svg xmlns=\"http://www.w3.org/2000/svg\" height=\"24px\"viewBox=\"0 0 24 24\"\n",
              "       width=\"24px\">\n",
              "    <path d=\"M0 0h24v24H0V0z\" fill=\"none\"/>\n",
              "    <path d=\"M18.56 5.44l.94 2.06.94-2.06 2.06-.94-2.06-.94-.94-2.06-.94 2.06-2.06.94zm-11 1L8.5 8.5l.94-2.06 2.06-.94-2.06-.94L8.5 2.5l-.94 2.06-2.06.94zm10 10l.94 2.06.94-2.06 2.06-.94-2.06-.94-.94-2.06-.94 2.06-2.06.94z\"/><path d=\"M17.41 7.96l-1.37-1.37c-.4-.4-.92-.59-1.43-.59-.52 0-1.04.2-1.43.59L10.3 9.45l-7.72 7.72c-.78.78-.78 2.05 0 2.83L4 21.41c.39.39.9.59 1.41.59.51 0 1.02-.2 1.41-.59l7.78-7.78 2.81-2.81c.8-.78.8-2.07 0-2.86zM5.41 20L4 18.59l7.72-7.72 1.47 1.35L5.41 20z\"/>\n",
              "  </svg>\n",
              "      </button>\n",
              "      \n",
              "  <style>\n",
              "    .colab-df-container {\n",
              "      display:flex;\n",
              "      flex-wrap:wrap;\n",
              "      gap: 12px;\n",
              "    }\n",
              "\n",
              "    .colab-df-convert {\n",
              "      background-color: #E8F0FE;\n",
              "      border: none;\n",
              "      border-radius: 50%;\n",
              "      cursor: pointer;\n",
              "      display: none;\n",
              "      fill: #1967D2;\n",
              "      height: 32px;\n",
              "      padding: 0 0 0 0;\n",
              "      width: 32px;\n",
              "    }\n",
              "\n",
              "    .colab-df-convert:hover {\n",
              "      background-color: #E2EBFA;\n",
              "      box-shadow: 0px 1px 2px rgba(60, 64, 67, 0.3), 0px 1px 3px 1px rgba(60, 64, 67, 0.15);\n",
              "      fill: #174EA6;\n",
              "    }\n",
              "\n",
              "    [theme=dark] .colab-df-convert {\n",
              "      background-color: #3B4455;\n",
              "      fill: #D2E3FC;\n",
              "    }\n",
              "\n",
              "    [theme=dark] .colab-df-convert:hover {\n",
              "      background-color: #434B5C;\n",
              "      box-shadow: 0px 1px 3px 1px rgba(0, 0, 0, 0.15);\n",
              "      filter: drop-shadow(0px 1px 2px rgba(0, 0, 0, 0.3));\n",
              "      fill: #FFFFFF;\n",
              "    }\n",
              "  </style>\n",
              "\n",
              "      <script>\n",
              "        const buttonEl =\n",
              "          document.querySelector('#df-89158054-9c1f-4fee-b046-228a9f8952a5 button.colab-df-convert');\n",
              "        buttonEl.style.display =\n",
              "          google.colab.kernel.accessAllowed ? 'block' : 'none';\n",
              "\n",
              "        async function convertToInteractive(key) {\n",
              "          const element = document.querySelector('#df-89158054-9c1f-4fee-b046-228a9f8952a5');\n",
              "          const dataTable =\n",
              "            await google.colab.kernel.invokeFunction('convertToInteractive',\n",
              "                                                     [key], {});\n",
              "          if (!dataTable) return;\n",
              "\n",
              "          const docLinkHtml = 'Like what you see? Visit the ' +\n",
              "            '<a target=\"_blank\" href=https://colab.research.google.com/notebooks/data_table.ipynb>data table notebook</a>'\n",
              "            + ' to learn more about interactive tables.';\n",
              "          element.innerHTML = '';\n",
              "          dataTable['output_type'] = 'display_data';\n",
              "          await google.colab.output.renderOutput(dataTable, element);\n",
              "          const docLink = document.createElement('div');\n",
              "          docLink.innerHTML = docLinkHtml;\n",
              "          element.appendChild(docLink);\n",
              "        }\n",
              "      </script>\n",
              "    </div>\n",
              "  </div>\n",
              "  "
            ]
          },
          "metadata": {},
          "execution_count": 30
        }
      ]
    },
    {
      "cell_type": "markdown",
      "source": [
        "We see that on `reviews` the accuracy is much lower but the recall is similar (it is a little lower but that might change if we choose different thresholds for the VADER score)."
      ],
      "metadata": {
        "id": "9tYEHfZVnKaA"
      }
    },
    {
      "cell_type": "code",
      "source": [
        "accuracy_score(reviews['sentiment'], reviews['VADER sentiment'])"
      ],
      "metadata": {
        "colab": {
          "base_uri": "https://localhost:8080/"
        },
        "id": "O8UtcNvihWNc",
        "outputId": "50687a8e-2e15-40e7-f880-9bc4dea4f025"
      },
      "execution_count": null,
      "outputs": [
        {
          "output_type": "execute_result",
          "data": {
            "text/plain": [
              "0.5682"
            ]
          },
          "metadata": {},
          "execution_count": 31
        }
      ]
    },
    {
      "cell_type": "code",
      "source": [
        "recall_score(reviews['sentiment'], reviews['VADER sentiment'], average=None)"
      ],
      "metadata": {
        "colab": {
          "base_uri": "https://localhost:8080/"
        },
        "id": "zhJHS14AhWNc",
        "outputId": "2f37e91c-0dee-4ea1-a750-390f618c9178"
      },
      "execution_count": null,
      "outputs": [
        {
          "output_type": "execute_result",
          "data": {
            "text/plain": [
              "array([0.60985, 0.1965 , 0.7124 ])"
            ]
          },
          "metadata": {},
          "execution_count": 32
        }
      ]
    },
    {
      "cell_type": "markdown",
      "source": [
        "### 1.4 Optimal Threshold for VADER and Binary Sentiment\n",
        "\n",
        "From now on we will consider a **binary** classification problem with the classes negative and positive, i.e. **discarding the neutral category**. We do this because the fine-tuned distilBERT model we are using is only a binary classifier. Note: In a separate notebook we will train distilBERT to predict the ratings, which would allow us to have a neutral class or even just 5 classes (the ratings themselves).\n",
        "\n",
        "It seems clear that reviews with 1 or 2 stars should be considered negative and reviews with 4 and 5 stars positive. The question is *how to classify the 3 star reviews*. While VADER mostly gives them positive scores, we will see that the distilBERT model actually mostly classifies them as negative. From reading some of the 3 star reviews it does appear that the distilBERT model is right and we already noted that VADER has a positivity bias.\n",
        "\n",
        "To classify the reviews into two classes using VADER we just have a single threshold: everything to the left of it is negative and everything to the right positive. With the following function we will find the **threshold resulting in the highest possible classification accuracy**, given a list of VADER scores and corresponding ground truth sentiments. *This is just intended as a baseline for the distilBERT model and is not a principled way to tune VADER, since this threshold probably has a high variance and we are overfitting on our training set.*"
      ],
      "metadata": {
        "id": "fe24x5_ipiCp"
      }
    },
    {
      "cell_type": "code",
      "source": [
        "def find_best_split(reviews, score_col='polarity score', sentiment_col='binary sentiment'):\n",
        "  sorted_df = (\n",
        "    reviews.sort_values(by=score_col)\n",
        "           [[score_col, sentiment_col]]\n",
        "  )\n",
        "  scores = sorted_df[score_col]\n",
        "  sentiments = sorted_df[sentiment_col]\n",
        "  correct_class = max_correct = sentiments.sum()\n",
        "  optimal_thresh = prev_score = -1\n",
        "  count = 0\n",
        "  for score, sentiment in zip(scores, sentiments):\n",
        "    if sentiment == 0:\n",
        "      correct_class += 1\n",
        "    else:\n",
        "      if score != prev_score and correct_class > max_correct:\n",
        "        optimal_thresh = prev_score\n",
        "        max_correct = correct_class\n",
        "      correct_class -= 1\n",
        "    prev_score = score\n",
        "  if correct_class > max_correct:\n",
        "    optimal_thresh = score\n",
        "    max_correct = correct_class\n",
        "  return {'threshold': optimal_thresh, 'accuracy': max_correct / scores.size}\n"
      ],
      "metadata": {
        "id": "6ygy2KIksSt9"
      },
      "execution_count": null,
      "outputs": []
    },
    {
      "cell_type": "markdown",
      "source": [
        "First we will define 3 star ratings as negative (in fact, we already did this when we computed the 'binary sentiment' column above)."
      ],
      "metadata": {
        "id": "wJ3xJrjIVAgE"
      }
    },
    {
      "cell_type": "code",
      "source": [
        "best_split = find_best_split(reviews)\n",
        "best_split"
      ],
      "metadata": {
        "colab": {
          "base_uri": "https://localhost:8080/"
        },
        "id": "LPVcPDYn89zD",
        "outputId": "277529e6-e118-4f58-9f24-67cb5f87f595"
      },
      "execution_count": null,
      "outputs": [
        {
          "output_type": "execute_result",
          "data": {
            "text/plain": [
              "{'threshold': 0.7945, 'accuracy': 0.71772}"
            ]
          },
          "metadata": {},
          "execution_count": 34
        }
      ]
    },
    {
      "cell_type": "markdown",
      "source": [
        "Next let's think of 3 star ratings as positive instead (we call it *alternative binary sentiment*)."
      ],
      "metadata": {
        "id": "Agts8ED4VTQs"
      }
    },
    {
      "cell_type": "code",
      "source": [
        "reviews['alt binary sentiment'] = reviews['rating'].map({1:0,2:0,3:1,4:1,5:1})\n",
        "print(find_best_split(reviews, sentiment_col='alt binary sentiment'))\n",
        "reviews = reviews.drop(columns='alt binary sentiment');"
      ],
      "metadata": {
        "colab": {
          "base_uri": "https://localhost:8080/"
        },
        "id": "QvjOObZESnN0",
        "outputId": "243aab52-2f74-4f52-8b39-4f7bf7fd4f34"
      },
      "execution_count": null,
      "outputs": [
        {
          "output_type": "stream",
          "name": "stdout",
          "text": [
            "{'threshold': 0.296, 'accuracy': 0.70864}\n"
          ]
        }
      ]
    },
    {
      "cell_type": "markdown",
      "source": [
        "Considering 3 star reviews to be positive instead of negative made virtually no difference to the accuracy. This is a little surprising because VADER tends to give 3 star reviews positive sentiment scores. The reason that the accuracy doesn't improve is that a lower threshold results in a lower recall for negative ratings, on which VADER also has a positivity bias."
      ],
      "metadata": {
        "id": "Ahu7x8RvGDPf"
      }
    },
    {
      "cell_type": "markdown",
      "source": [
        "Below we compute the recall. It isn't great but not terrible either considering the simplicity of the VADER method and the difficulty of the task. However, distilBERT will do better and without the need to fine-tune it on our data (although, as I mentioned, we will fine-tune it in a separate notebook and the accuracy will improve significantly)."
      ],
      "metadata": {
        "id": "tF41LEPGWE2U"
      }
    },
    {
      "cell_type": "code",
      "source": [
        "recall_score(reviews['polarity score'] >= best_split['threshold'], reviews['binary sentiment'], average=None)"
      ],
      "metadata": {
        "colab": {
          "base_uri": "https://localhost:8080/"
        },
        "id": "LaOJGJSnc3bC",
        "outputId": "04953913-9bf5-4d49-b0cd-c0443967ff5e"
      },
      "execution_count": null,
      "outputs": [
        {
          "output_type": "execute_result",
          "data": {
            "text/plain": [
              "array([0.77318932, 0.6405552 ])"
            ]
          },
          "metadata": {},
          "execution_count": 36
        }
      ]
    },
    {
      "cell_type": "markdown",
      "source": [
        "## 2. BERT for Sentiment Classification\n",
        "\n",
        "As mentioned in the introduction, we are using a distilBERT model [fine-tuned](https://huggingface.co/distilbert-base-uncased-finetuned-sst-2-english) on the SST2 dataset consisting of sentences from movie reviews."
      ],
      "metadata": {
        "id": "b9No6rJ1zC1o"
      }
    },
    {
      "cell_type": "code",
      "metadata": {
        "id": "E7Mj-0ne--5t"
      },
      "source": [
        "tokenizer = AutoTokenizer.from_pretrained(FINETUNED_SST)\n",
        "bert_model = AutoModelForSequenceClassification.from_pretrained(FINETUNED_SST)"
      ],
      "execution_count": null,
      "outputs": []
    },
    {
      "cell_type": "markdown",
      "source": [
        "Before being fed to the transformer we need to tokenize the text. Tokens often correspond to full words but can also correspond to parts of words (this happens for rare words) or symbols like punctuation.\n",
        "\n",
        "The maximum length the transformer can handle is 512 so we will have to clip particularly long reviews. In fact, we will set a lower maximum than that to improve performance. A single long review would mean we have to make the whole batch longer (the lengths of the samples in the batch must agree and the shorter ones are filled with placeholder tokens) and this uses more memory on the GPU and requires more computations.\n",
        "\n",
        "The cutoff should be larger than the length of the overwhelming majority of reviews, to make sure it has negligible effect on the precision of the model. To determine this cutoff we will plot the length distribution."
      ],
      "metadata": {
        "id": "T4J2HA_bzhuP"
      }
    },
    {
      "cell_type": "code",
      "metadata": {
        "id": "BUnE5CT9hbeZ",
        "colab": {
          "base_uri": "https://localhost:8080/",
          "height": 506
        },
        "outputId": "d4ab6315-cf9e-4929-b756-fd4213d15db2"
      },
      "source": [
        "token_lengths = np.array([len(tokenizer.encode(s, truncation=True, max_length=512)) for s in reviews['demojized review']])\n",
        "sns.histplot(token_lengths, kde=True)\n",
        "plt.xlabel('Token count for review');"
      ],
      "execution_count": null,
      "outputs": [
        {
          "output_type": "display_data",
          "data": {
            "text/plain": [
              "<Figure size 864x576 with 1 Axes>"
            ],
            "image/png": "[encoded data removed]"
          },
          "metadata": {
            "image/png": {
              "width": 745,
              "height": 489
            }
          }
        }
      ]
    },
    {
      "cell_type": "code",
      "source": [
        "f'Just {(np.array(token_lengths) >= 256).mean()*100:.2} percent of the reviews have a length over 256'"
      ],
      "metadata": {
        "colab": {
          "base_uri": "https://localhost:8080/",
          "height": 36
        },
        "id": "DxETH81Pj5uo",
        "outputId": "eac39e7c-3f91-401c-cce3-da10451e43be"
      },
      "execution_count": null,
      "outputs": [
        {
          "output_type": "execute_result",
          "data": {
            "text/plain": [
              "'Just 2.7 percent of the reviews have a length over 256'"
            ],
            "application/vnd.google.colaboratory.intrinsic+json": {
              "type": "string"
            }
          },
          "metadata": {},
          "execution_count": 39
        }
      ]
    },
    {
      "cell_type": "markdown",
      "source": [
        "Now we take the **demojized reviews** from the `reviews` dataframe, **tokenize** them with a **maximum length of 256 tokens** and create a dataloader which will feed the tokenized samples in batches of size 32 to the distilBERT classifier."
      ],
      "metadata": {
        "id": "uCLyH8Um6gQU"
      }
    },
    {
      "cell_type": "code",
      "source": [
        "def tokenize_function(data, tokenizer, max_length=256):\n",
        "    return tokenizer(data['demojized review'], truncation=True, max_length=max_length)\n",
        "\n",
        "dataset = Dataset.from_dict(reviews[['demojized review']])\n",
        "\n",
        "tokenized_dataset = (\n",
        "    dataset.map(partial(tokenize_function, tokenizer=tokenizer), batched=True)\n",
        "           .remove_columns(['demojized review'])\n",
        ")\n",
        "\n",
        "data_collator = DataCollatorWithPadding(tokenizer=tokenizer)\n",
        "\n",
        "dataloader = DataLoader(\n",
        "    tokenized_dataset, batch_size=32, collate_fn=data_collator\n",
        ")"
      ],
      "metadata": {
        "id": "yuHirSs40QCy"
      },
      "execution_count": null,
      "outputs": []
    },
    {
      "cell_type": "markdown",
      "source": [
        "The distilBERT model outputs the logits for the targets 0 (negative) and 1 (positive). The following function evaluates the model on a dataloader and returns an array of **probabilities** for the reviews fed through the dataloader being **positive**."
      ],
      "metadata": {
        "id": "fYpGoI2x7PPj"
      }
    },
    {
      "cell_type": "code",
      "source": [
        "def get_probs(model, dataloader):\n",
        "  probs = []\n",
        "  model = model.to(device)\n",
        "  model.eval()\n",
        "  m = nn.Softmax(dim=1)\n",
        "  for batch in tqdm(dataloader):\n",
        "    batch = {k: v.to(device) for k, v in batch.items()}\n",
        "    with torch.no_grad():\n",
        "      outputs = model(**batch)\n",
        "      logits = outputs.logits\n",
        "      probs += m(logits)[:,1].tolist()\n",
        "  return np.array(probs)"
      ],
      "metadata": {
        "id": "3qgbLzXWH6fD"
      },
      "execution_count": null,
      "outputs": []
    },
    {
      "cell_type": "code",
      "source": [
        "reviews['BERT probs'] = get_probs(bert_model, dataloader)"
      ],
      "metadata": {
        "colab": {
          "base_uri": "https://localhost:8080/",
          "height": 86,
          "referenced_widgets": [
            "0e0ce321f8c645f5b18c350507baa11f",
            "63a97cbebc2b4766982ca3e2322f4cb1",
            "32be4c9b82a04465866fe42884376b2a",
            "367d0335a2fe4d469cf8743c5ee043b2",
            "c7a72ec45e07437cb2711b7040409478",
            "397cd5ef218543b1be9351ef1ddb9aa0",
            "862472139b914b56a13c97a870f72094",
            "e821ba757f754c0c94f773785af01477",
            "6478d39f0e4e4c0a948ea51f61319fac",
            "0ac07d6d0e7f401fa358d25dcaddc3d5",
            "49345a1a6c2a433abd6c7e0c132a079e"
          ]
        },
        "id": "hUMlP43JyMvc",
        "outputId": "174cc256-a756-4d52-8e9a-acecfd62c84e"
      },
      "execution_count": null,
      "outputs": [
        {
          "output_type": "display_data",
          "data": {
            "text/plain": [
              "  0%|          | 0/3125 [00:00<?, ?it/s]"
            ],
            "application/vnd.jupyter.widget-view+json": {
              "version_major": 2,
              "version_minor": 0,
              "model_id": "0e0ce321f8c645f5b18c350507baa11f"
            }
          },
          "metadata": {}
        },
        {
          "output_type": "stream",
          "name": "stderr",
          "text": [
            "You're using a DistilBertTokenizerFast tokenizer. Please note that with a fast tokenizer, using the `__call__` method is faster than using a method to encode the text followed by a call to the `pad` method to get a padded encoding.\n"
          ]
        }
      ]
    },
    {
      "cell_type": "markdown",
      "source": [
        "## 3. Comparing VADER and BERT\n",
        "\n",
        "We see in the following histograms that distilBERT classifies most 3 star ratings as negative. **This is interesting because VADER does the complete opposite**, assigning overwhelmingly positive scores to 3 star reviews.\n",
        "\n",
        "Something else to note is that this model is **very confident in its predictions**, with two sharp peaks around 0 and 1 but very little in between. We can see a little less confidence for 3 star ratings. Those are the most mixed reviews in terms of sentiment and they do exhibit some more intermediate probability values than other star ratings. However, the VADER score does a much better job as a continuous measure of sentiment outside of 0 and 1. To be fair, the distilBERt classifier is intended to make correct binary predictions, not to quantify uncertainty."
      ],
      "metadata": {
        "id": "4rAGdB368PKA"
      }
    },
    {
      "cell_type": "code",
      "source": [
        "plot_histograms_by_sentiment(reviews, 'BERT probs')"
      ],
      "metadata": {
        "colab": {
          "base_uri": "https://localhost:8080/",
          "height": 288
        },
        "id": "SqCmP4Gjyo8p",
        "outputId": "1688277c-712d-4b40-a352-e1021db2b49d"
      },
      "execution_count": null,
      "outputs": [
        {
          "output_type": "display_data",
          "data": {
            "text/plain": [
              "<Figure size 864x288 with 3 Axes>"
            ],
            "image/png": "[encoded data removed]"
          },
          "metadata": {
            "image/png": {
              "width": 847,
              "height": 271
            }
          }
        }
      ]
    },
    {
      "cell_type": "markdown",
      "source": [
        "Most times when VADER and distilBERT disagree, the latter is right. This is not surprising because distilBERT is a much more complicated and computation intensive technique.\n",
        "\n",
        "The following is a typical example which has a very high VADER score yet very low BERT probability of being positive (and BERT is right).\n"
      ],
      "metadata": {
        "id": "fmNimzFVBLZd"
      }
    },
    {
      "cell_type": "code",
      "source": [
        "reviews.loc[945, ['title', 'content', 'rating', 'polarity score', 'BERT probs']]"
      ],
      "metadata": {
        "id": "bIxsbApk8Ep1",
        "colab": {
          "base_uri": "https://localhost:8080/"
        },
        "outputId": "8d5e511b-8406-4916-f210-2dbea99bab79"
      },
      "execution_count": null,
      "outputs": [
        {
          "output_type": "execute_result",
          "data": {
            "text/plain": [
              "title                                              Used to be great\n",
              "content           Used to be a great comedy podcast, until, in s...\n",
              "rating                                                            1\n",
              "polarity score                                               0.9509\n",
              "BERT probs                                                 0.022963\n",
              "Name: 945, dtype: object"
            ]
          },
          "metadata": {},
          "execution_count": 70
        }
      ]
    },
    {
      "cell_type": "code",
      "source": [
        "reviews.loc[945, 'review']"
      ],
      "metadata": {
        "colab": {
          "base_uri": "https://localhost:8080/",
          "height": 36
        },
        "id": "8ZSonQw_BEvD",
        "outputId": "d9927d14-0004-40e5-9191-f4673064e63b"
      },
      "execution_count": null,
      "outputs": [
        {
          "output_type": "execute_result",
          "data": {
            "text/plain": [
              "'Used to be great. Used to be a great comedy podcast, until, in someone\\'s infinite wisdom, decided to replace the only talent on that \"network\".'"
            ],
            "application/vnd.google.colaboratory.intrinsic+json": {
              "type": "string"
            }
          },
          "metadata": {},
          "execution_count": 71
        }
      ]
    },
    {
      "cell_type": "markdown",
      "source": [
        "\n",
        "The reason the VADER score is so high for that review is that it contains many words with positive sentiment (great, wisdom, talent) and not really any words with negative sentiment (in isolation). The distilBERT model however is able to take into account the context of the whole sentence (\"used to be\", \"the only talent\")."
      ],
      "metadata": {
        "id": "2mgrnu_Vb5Y5"
      }
    },
    {
      "cell_type": "markdown",
      "source": [
        "Let's look at the reviews with high probability of being positive according to distilBERT but a very negative VADER score, and vice versa.\n",
        "\n",
        "We see below that there are very few cases in the former category but many in the latter. The distilBERT model is usually right but certainly not every time.\n",
        "\n",
        "Actually going through the reviews one gets the impression that those numbers underestimate how much better distilBERT is to VADER. In many cases the review sentiment is only loosely correlated with the rating. As such, some \"misclassifications\" by distilBERT could even be seen as additional signal to the ratings rather than mistakes."
      ],
      "metadata": {
        "id": "pAdkC_aoKEKD"
      }
    },
    {
      "cell_type": "code",
      "source": [
        "reviews.loc[(reviews['BERT probs'] > 0.95) & (reviews['polarity score'] < -0.9), 'rating'].value_counts()"
      ],
      "metadata": {
        "id": "Ctmg-UoQ53lo",
        "colab": {
          "base_uri": "https://localhost:8080/"
        },
        "outputId": "8196949a-2c09-4158-e1f4-d62b1ff64a88"
      },
      "execution_count": null,
      "outputs": [
        {
          "output_type": "execute_result",
          "data": {
            "text/plain": [
              "4    17\n",
              "3    17\n",
              "1    16\n",
              "2    13\n",
              "5    13\n",
              "Name: rating, dtype: int64"
            ]
          },
          "metadata": {},
          "execution_count": 72
        }
      ]
    },
    {
      "cell_type": "code",
      "source": [
        "reviews.loc[(reviews['BERT probs'] < 0.05) & (reviews['polarity score'] > 0.9), 'rating'].value_counts()"
      ],
      "metadata": {
        "colab": {
          "base_uri": "https://localhost:8080/"
        },
        "id": "cT2meyMgC7BE",
        "outputId": "2d57f710-08a8-4ab5-932d-182bbd307a96"
      },
      "execution_count": null,
      "outputs": [
        {
          "output_type": "execute_result",
          "data": {
            "text/plain": [
              "3    1753\n",
              "2    1731\n",
              "1     871\n",
              "4     769\n",
              "5      74\n",
              "Name: rating, dtype: int64"
            ]
          },
          "metadata": {},
          "execution_count": 73
        }
      ]
    },
    {
      "cell_type": "markdown",
      "source": [
        "Here are some 3 star reviews that distilBERT classifies as positive."
      ],
      "metadata": {
        "id": "J6XCC416q411"
      }
    },
    {
      "cell_type": "code",
      "source": [
        "reviews[(reviews['BERT probs'] > 0.99) & (reviews['rating'] == 3)][['title', 'content', 'rating', 'polarity score', 'BERT probs']].head(10)"
      ],
      "metadata": {
        "colab": {
          "base_uri": "https://localhost:8080/",
          "height": 363
        },
        "id": "TpJOv2oxq5S9",
        "outputId": "cae6ca19-a4cc-4bc8-cae4-c69037563c0f"
      },
      "execution_count": null,
      "outputs": [
        {
          "output_type": "execute_result",
          "data": {
            "text/plain": [
              "                                    title  \\\n",
              "50                                     ☺️   \n",
              "54   Great content… Please work on format   \n",
              "62                           Cool, but...   \n",
              "221      conservatives might pass on this   \n",
              "459              Hi it’s me and my family   \n",
              "466                             JUST WOW!   \n",
              "470                       Another re-run?   \n",
              "473                            Keep it up   \n",
              "542               Overuse of “incredible”   \n",
              "584                            my opinion   \n",
              "\n",
              "                                               content  rating  \\\n",
              "50   Love the podcast!! You guys keep me entertained!!       3   \n",
              "54   I love this podcast - the information is so va...       3   \n",
              "62   Smart and funny pod. She gets a little condesc...       3   \n",
              "221  I've been listening to this podcast for years ...       3   \n",
              "459                       Lion and cat cat dog cat cat       3   \n",
              "466  It’s like making a murderer REVERSED, this sou...       3   \n",
              "470  Are you guys ever going to get back to creatin...       3   \n",
              "473  Hey, I'm a follow controller I like where this...       3   \n",
              "542  I love these people but every other word Mallo...       3   \n",
              "584  I love this podcast but you guys sidetrack way...       3   \n",
              "\n",
              "     polarity score  BERT probs  \n",
              "50           0.9015    0.999867  \n",
              "54           0.9890    0.993949  \n",
              "62           0.8422    0.996883  \n",
              "221          0.3679    0.995914  \n",
              "459          0.0000    0.998568  \n",
              "466          0.9485    0.998971  \n",
              "470          0.3076    0.998778  \n",
              "473          0.3612    0.998447  \n",
              "542          0.3818    0.996635  \n",
              "584          0.3818    0.991521  "
            ],
            "text/html": [
              "\n",
              "  <div id=\"df-b5fce6e9-4284-4542-a08d-28e153e0adff\">\n",
              "    <div class=\"colab-df-container\">\n",
              "      <div>\n",
              "<style scoped>\n",
              "    .dataframe tbody tr th:only-of-type {\n",
              "        vertical-align: middle;\n",
              "    }\n",
              "\n",
              "    .dataframe tbody tr th {\n",
              "        vertical-align: top;\n",
              "    }\n",
              "\n",
              "    .dataframe thead th {\n",
              "        text-align: right;\n",
              "    }\n",
              "</style>\n",
              "<table border=\"1\" class=\"dataframe\">\n",
              "  <thead>\n",
              "    <tr style=\"text-align: right;\">\n",
              "      <th></th>\n",
              "      <th>title</th>\n",
              "      <th>content</th>\n",
              "      <th>rating</th>\n",
              "      <th>polarity score</th>\n",
              "      <th>BERT probs</th>\n",
              "    </tr>\n",
              "  </thead>\n",
              "  <tbody>\n",
              "    <tr>\n",
              "      <th>50</th>\n",
              "      <td>☺️</td>\n",
              "      <td>Love the podcast!! You guys keep me entertained!!</td>\n",
              "      <td>3</td>\n",
              "      <td>0.9015</td>\n",
              "      <td>0.999867</td>\n",
              "    </tr>\n",
              "    <tr>\n",
              "      <th>54</th>\n",
              "      <td>Great content… Please work on format</td>\n",
              "      <td>I love this podcast - the information is so va...</td>\n",
              "      <td>3</td>\n",
              "      <td>0.9890</td>\n",
              "      <td>0.993949</td>\n",
              "    </tr>\n",
              "    <tr>\n",
              "      <th>62</th>\n",
              "      <td>Cool, but...</td>\n",
              "      <td>Smart and funny pod. She gets a little condesc...</td>\n",
              "      <td>3</td>\n",
              "      <td>0.8422</td>\n",
              "      <td>0.996883</td>\n",
              "    </tr>\n",
              "    <tr>\n",
              "      <th>221</th>\n",
              "      <td>conservatives might pass on this</td>\n",
              "      <td>I've been listening to this podcast for years ...</td>\n",
              "      <td>3</td>\n",
              "      <td>0.3679</td>\n",
              "      <td>0.995914</td>\n",
              "    </tr>\n",
              "    <tr>\n",
              "      <th>459</th>\n",
              "      <td>Hi it’s me and my family</td>\n",
              "      <td>Lion and cat cat dog cat cat</td>\n",
              "      <td>3</td>\n",
              "      <td>0.0000</td>\n",
              "      <td>0.998568</td>\n",
              "    </tr>\n",
              "    <tr>\n",
              "      <th>466</th>\n",
              "      <td>JUST WOW!</td>\n",
              "      <td>It’s like making a murderer REVERSED, this sou...</td>\n",
              "      <td>3</td>\n",
              "      <td>0.9485</td>\n",
              "      <td>0.998971</td>\n",
              "    </tr>\n",
              "    <tr>\n",
              "      <th>470</th>\n",
              "      <td>Another re-run?</td>\n",
              "      <td>Are you guys ever going to get back to creatin...</td>\n",
              "      <td>3</td>\n",
              "      <td>0.3076</td>\n",
              "      <td>0.998778</td>\n",
              "    </tr>\n",
              "    <tr>\n",
              "      <th>473</th>\n",
              "      <td>Keep it up</td>\n",
              "      <td>Hey, I'm a follow controller I like where this...</td>\n",
              "      <td>3</td>\n",
              "      <td>0.3612</td>\n",
              "      <td>0.998447</td>\n",
              "    </tr>\n",
              "    <tr>\n",
              "      <th>542</th>\n",
              "      <td>Overuse of “incredible”</td>\n",
              "      <td>I love these people but every other word Mallo...</td>\n",
              "      <td>3</td>\n",
              "      <td>0.3818</td>\n",
              "      <td>0.996635</td>\n",
              "    </tr>\n",
              "    <tr>\n",
              "      <th>584</th>\n",
              "      <td>my opinion</td>\n",
              "      <td>I love this podcast but you guys sidetrack way...</td>\n",
              "      <td>3</td>\n",
              "      <td>0.3818</td>\n",
              "      <td>0.991521</td>\n",
              "    </tr>\n",
              "  </tbody>\n",
              "</table>\n",
              "</div>\n",
              "      <button class=\"colab-df-convert\" onclick=\"convertToInteractive('df-b5fce6e9-4284-4542-a08d-28e153e0adff')\"\n",
              "              title=\"Convert this dataframe to an interactive table.\"\n",
              "              style=\"display:none;\">\n",
              "        \n",
              "  <svg xmlns=\"http://www.w3.org/2000/svg\" height=\"24px\"viewBox=\"0 0 24 24\"\n",
              "       width=\"24px\">\n",
              "    <path d=\"M0 0h24v24H0V0z\" fill=\"none\"/>\n",
              "    <path d=\"M18.56 5.44l.94 2.06.94-2.06 2.06-.94-2.06-.94-.94-2.06-.94 2.06-2.06.94zm-11 1L8.5 8.5l.94-2.06 2.06-.94-2.06-.94L8.5 2.5l-.94 2.06-2.06.94zm10 10l.94 2.06.94-2.06 2.06-.94-2.06-.94-.94-2.06-.94 2.06-2.06.94z\"/><path d=\"M17.41 7.96l-1.37-1.37c-.4-.4-.92-.59-1.43-.59-.52 0-1.04.2-1.43.59L10.3 9.45l-7.72 7.72c-.78.78-.78 2.05 0 2.83L4 21.41c.39.39.9.59 1.41.59.51 0 1.02-.2 1.41-.59l7.78-7.78 2.81-2.81c.8-.78.8-2.07 0-2.86zM5.41 20L4 18.59l7.72-7.72 1.47 1.35L5.41 20z\"/>\n",
              "  </svg>\n",
              "      </button>\n",
              "      \n",
              "  <style>\n",
              "    .colab-df-container {\n",
              "      display:flex;\n",
              "      flex-wrap:wrap;\n",
              "      gap: 12px;\n",
              "    }\n",
              "\n",
              "    .colab-df-convert {\n",
              "      background-color: #E8F0FE;\n",
              "      border: none;\n",
              "      border-radius: 50%;\n",
              "      cursor: pointer;\n",
              "      display: none;\n",
              "      fill: #1967D2;\n",
              "      height: 32px;\n",
              "      padding: 0 0 0 0;\n",
              "      width: 32px;\n",
              "    }\n",
              "\n",
              "    .colab-df-convert:hover {\n",
              "      background-color: #E2EBFA;\n",
              "      box-shadow: 0px 1px 2px rgba(60, 64, 67, 0.3), 0px 1px 3px 1px rgba(60, 64, 67, 0.15);\n",
              "      fill: #174EA6;\n",
              "    }\n",
              "\n",
              "    [theme=dark] .colab-df-convert {\n",
              "      background-color: #3B4455;\n",
              "      fill: #D2E3FC;\n",
              "    }\n",
              "\n",
              "    [theme=dark] .colab-df-convert:hover {\n",
              "      background-color: #434B5C;\n",
              "      box-shadow: 0px 1px 3px 1px rgba(0, 0, 0, 0.15);\n",
              "      filter: drop-shadow(0px 1px 2px rgba(0, 0, 0, 0.3));\n",
              "      fill: #FFFFFF;\n",
              "    }\n",
              "  </style>\n",
              "\n",
              "      <script>\n",
              "        const buttonEl =\n",
              "          document.querySelector('#df-b5fce6e9-4284-4542-a08d-28e153e0adff button.colab-df-convert');\n",
              "        buttonEl.style.display =\n",
              "          google.colab.kernel.accessAllowed ? 'block' : 'none';\n",
              "\n",
              "        async function convertToInteractive(key) {\n",
              "          const element = document.querySelector('#df-b5fce6e9-4284-4542-a08d-28e153e0adff');\n",
              "          const dataTable =\n",
              "            await google.colab.kernel.invokeFunction('convertToInteractive',\n",
              "                                                     [key], {});\n",
              "          if (!dataTable) return;\n",
              "\n",
              "          const docLinkHtml = 'Like what you see? Visit the ' +\n",
              "            '<a target=\"_blank\" href=https://colab.research.google.com/notebooks/data_table.ipynb>data table notebook</a>'\n",
              "            + ' to learn more about interactive tables.';\n",
              "          element.innerHTML = '';\n",
              "          dataTable['output_type'] = 'display_data';\n",
              "          await google.colab.output.renderOutput(dataTable, element);\n",
              "          const docLink = document.createElement('div');\n",
              "          docLink.innerHTML = docLinkHtml;\n",
              "          element.appendChild(docLink);\n",
              "        }\n",
              "      </script>\n",
              "    </div>\n",
              "  </div>\n",
              "  "
            ]
          },
          "metadata": {},
          "execution_count": 69
        }
      ]
    },
    {
      "cell_type": "markdown",
      "source": [
        "On the other hand, here is an example of a 3 star review that distilBERT classifies as negative."
      ],
      "metadata": {
        "id": "71hgOZaKKVaV"
      }
    },
    {
      "cell_type": "code",
      "source": [
        "reviews[(reviews['BERT probs'] < 0.01) & (reviews['rating'] == 3)][['title', 'content', 'rating', 'polarity score', 'BERT probs']].head(10)"
      ],
      "metadata": {
        "colab": {
          "base_uri": "https://localhost:8080/",
          "height": 363
        },
        "id": "mZ210Ylo6Q16",
        "outputId": "3e4dd78e-0aec-4f32-c871-3a816e1487bb"
      },
      "execution_count": null,
      "outputs": [
        {
          "output_type": "execute_result",
          "data": {
            "text/plain": [
              "                                       title  \\\n",
              "6         Used to be great, now is just okay   \n",
              "8                                    Okay...   \n",
              "15                                       Maz   \n",
              "17                            Decent content   \n",
              "22                                You should   \n",
              "38                      Addictive but trashy   \n",
              "41  Basically two guys catching a buzz......   \n",
              "76                       not as good anymore   \n",
              "78                              Inconsistent   \n",
              "80           Enjoy...Except for the Recyling   \n",
              "\n",
              "                                              content  rating  polarity score  \\\n",
              "6   I preferred the old format. Loved hearing from...       3          0.8151   \n",
              "8   Cool I guess but I can't download any songs cu...       3          0.7391   \n",
              "15  Bring him back please.   Not a good move.  Los...       3         -0.1546   \n",
              "17  Overall the content is good and timely, but th...       3         -0.7420   \n",
              "22  Do an interview with Not The Worst Show, it co...       3          0.7575   \n",
              "38  I listened to most of the first season. It's a...       3          0.9111   \n",
              "41  These guys seem to have a grasp on what a beer...       3          0.3498   \n",
              "76  The episodes were never as long as I wanted th...       3          0.8948   \n",
              "78  The shows vary from top shelf to really weak d...       3         -0.5563   \n",
              "80  I subscrobe to the show and enjoy it quite a b...       3          0.3716   \n",
              "\n",
              "    BERT probs  \n",
              "6     0.004110  \n",
              "8     0.007136  \n",
              "15    0.005427  \n",
              "17    0.000644  \n",
              "22    0.001318  \n",
              "38    0.000854  \n",
              "41    0.000442  \n",
              "76    0.004767  \n",
              "78    0.000442  \n",
              "80    0.006824  "
            ],
            "text/html": [
              "\n",
              "  <div id=\"df-3f3cd571-33fb-4ece-8b62-e03c2f845809\">\n",
              "    <div class=\"colab-df-container\">\n",
              "      <div>\n",
              "<style scoped>\n",
              "    .dataframe tbody tr th:only-of-type {\n",
              "        vertical-align: middle;\n",
              "    }\n",
              "\n",
              "    .dataframe tbody tr th {\n",
              "        vertical-align: top;\n",
              "    }\n",
              "\n",
              "    .dataframe thead th {\n",
              "        text-align: right;\n",
              "    }\n",
              "</style>\n",
              "<table border=\"1\" class=\"dataframe\">\n",
              "  <thead>\n",
              "    <tr style=\"text-align: right;\">\n",
              "      <th></th>\n",
              "      <th>title</th>\n",
              "      <th>content</th>\n",
              "      <th>rating</th>\n",
              "      <th>polarity score</th>\n",
              "      <th>BERT probs</th>\n",
              "    </tr>\n",
              "  </thead>\n",
              "  <tbody>\n",
              "    <tr>\n",
              "      <th>6</th>\n",
              "      <td>Used to be great, now is just okay</td>\n",
              "      <td>I preferred the old format. Loved hearing from...</td>\n",
              "      <td>3</td>\n",
              "      <td>0.8151</td>\n",
              "      <td>0.004110</td>\n",
              "    </tr>\n",
              "    <tr>\n",
              "      <th>8</th>\n",
              "      <td>Okay...</td>\n",
              "      <td>Cool I guess but I can't download any songs cu...</td>\n",
              "      <td>3</td>\n",
              "      <td>0.7391</td>\n",
              "      <td>0.007136</td>\n",
              "    </tr>\n",
              "    <tr>\n",
              "      <th>15</th>\n",
              "      <td>Maz</td>\n",
              "      <td>Bring him back please.   Not a good move.  Los...</td>\n",
              "      <td>3</td>\n",
              "      <td>-0.1546</td>\n",
              "      <td>0.005427</td>\n",
              "    </tr>\n",
              "    <tr>\n",
              "      <th>17</th>\n",
              "      <td>Decent content</td>\n",
              "      <td>Overall the content is good and timely, but th...</td>\n",
              "      <td>3</td>\n",
              "      <td>-0.7420</td>\n",
              "      <td>0.000644</td>\n",
              "    </tr>\n",
              "    <tr>\n",
              "      <th>22</th>\n",
              "      <td>You should</td>\n",
              "      <td>Do an interview with Not The Worst Show, it co...</td>\n",
              "      <td>3</td>\n",
              "      <td>0.7575</td>\n",
              "      <td>0.001318</td>\n",
              "    </tr>\n",
              "    <tr>\n",
              "      <th>38</th>\n",
              "      <td>Addictive but trashy</td>\n",
              "      <td>I listened to most of the first season. It's a...</td>\n",
              "      <td>3</td>\n",
              "      <td>0.9111</td>\n",
              "      <td>0.000854</td>\n",
              "    </tr>\n",
              "    <tr>\n",
              "      <th>41</th>\n",
              "      <td>Basically two guys catching a buzz......</td>\n",
              "      <td>These guys seem to have a grasp on what a beer...</td>\n",
              "      <td>3</td>\n",
              "      <td>0.3498</td>\n",
              "      <td>0.000442</td>\n",
              "    </tr>\n",
              "    <tr>\n",
              "      <th>76</th>\n",
              "      <td>not as good anymore</td>\n",
              "      <td>The episodes were never as long as I wanted th...</td>\n",
              "      <td>3</td>\n",
              "      <td>0.8948</td>\n",
              "      <td>0.004767</td>\n",
              "    </tr>\n",
              "    <tr>\n",
              "      <th>78</th>\n",
              "      <td>Inconsistent</td>\n",
              "      <td>The shows vary from top shelf to really weak d...</td>\n",
              "      <td>3</td>\n",
              "      <td>-0.5563</td>\n",
              "      <td>0.000442</td>\n",
              "    </tr>\n",
              "    <tr>\n",
              "      <th>80</th>\n",
              "      <td>Enjoy...Except for the Recyling</td>\n",
              "      <td>I subscrobe to the show and enjoy it quite a b...</td>\n",
              "      <td>3</td>\n",
              "      <td>0.3716</td>\n",
              "      <td>0.006824</td>\n",
              "    </tr>\n",
              "  </tbody>\n",
              "</table>\n",
              "</div>\n",
              "      <button class=\"colab-df-convert\" onclick=\"convertToInteractive('df-3f3cd571-33fb-4ece-8b62-e03c2f845809')\"\n",
              "              title=\"Convert this dataframe to an interactive table.\"\n",
              "              style=\"display:none;\">\n",
              "        \n",
              "  <svg xmlns=\"http://www.w3.org/2000/svg\" height=\"24px\"viewBox=\"0 0 24 24\"\n",
              "       width=\"24px\">\n",
              "    <path d=\"M0 0h24v24H0V0z\" fill=\"none\"/>\n",
              "    <path d=\"M18.56 5.44l.94 2.06.94-2.06 2.06-.94-2.06-.94-.94-2.06-.94 2.06-2.06.94zm-11 1L8.5 8.5l.94-2.06 2.06-.94-2.06-.94L8.5 2.5l-.94 2.06-2.06.94zm10 10l.94 2.06.94-2.06 2.06-.94-2.06-.94-.94-2.06-.94 2.06-2.06.94z\"/><path d=\"M17.41 7.96l-1.37-1.37c-.4-.4-.92-.59-1.43-.59-.52 0-1.04.2-1.43.59L10.3 9.45l-7.72 7.72c-.78.78-.78 2.05 0 2.83L4 21.41c.39.39.9.59 1.41.59.51 0 1.02-.2 1.41-.59l7.78-7.78 2.81-2.81c.8-.78.8-2.07 0-2.86zM5.41 20L4 18.59l7.72-7.72 1.47 1.35L5.41 20z\"/>\n",
              "  </svg>\n",
              "      </button>\n",
              "      \n",
              "  <style>\n",
              "    .colab-df-container {\n",
              "      display:flex;\n",
              "      flex-wrap:wrap;\n",
              "      gap: 12px;\n",
              "    }\n",
              "\n",
              "    .colab-df-convert {\n",
              "      background-color: #E8F0FE;\n",
              "      border: none;\n",
              "      border-radius: 50%;\n",
              "      cursor: pointer;\n",
              "      display: none;\n",
              "      fill: #1967D2;\n",
              "      height: 32px;\n",
              "      padding: 0 0 0 0;\n",
              "      width: 32px;\n",
              "    }\n",
              "\n",
              "    .colab-df-convert:hover {\n",
              "      background-color: #E2EBFA;\n",
              "      box-shadow: 0px 1px 2px rgba(60, 64, 67, 0.3), 0px 1px 3px 1px rgba(60, 64, 67, 0.15);\n",
              "      fill: #174EA6;\n",
              "    }\n",
              "\n",
              "    [theme=dark] .colab-df-convert {\n",
              "      background-color: #3B4455;\n",
              "      fill: #D2E3FC;\n",
              "    }\n",
              "\n",
              "    [theme=dark] .colab-df-convert:hover {\n",
              "      background-color: #434B5C;\n",
              "      box-shadow: 0px 1px 3px 1px rgba(0, 0, 0, 0.15);\n",
              "      filter: drop-shadow(0px 1px 2px rgba(0, 0, 0, 0.3));\n",
              "      fill: #FFFFFF;\n",
              "    }\n",
              "  </style>\n",
              "\n",
              "      <script>\n",
              "        const buttonEl =\n",
              "          document.querySelector('#df-3f3cd571-33fb-4ece-8b62-e03c2f845809 button.colab-df-convert');\n",
              "        buttonEl.style.display =\n",
              "          google.colab.kernel.accessAllowed ? 'block' : 'none';\n",
              "\n",
              "        async function convertToInteractive(key) {\n",
              "          const element = document.querySelector('#df-3f3cd571-33fb-4ece-8b62-e03c2f845809');\n",
              "          const dataTable =\n",
              "            await google.colab.kernel.invokeFunction('convertToInteractive',\n",
              "                                                     [key], {});\n",
              "          if (!dataTable) return;\n",
              "\n",
              "          const docLinkHtml = 'Like what you see? Visit the ' +\n",
              "            '<a target=\"_blank\" href=https://colab.research.google.com/notebooks/data_table.ipynb>data table notebook</a>'\n",
              "            + ' to learn more about interactive tables.';\n",
              "          element.innerHTML = '';\n",
              "          dataTable['output_type'] = 'display_data';\n",
              "          await google.colab.output.renderOutput(dataTable, element);\n",
              "          const docLink = document.createElement('div');\n",
              "          docLink.innerHTML = docLinkHtml;\n",
              "          element.appendChild(docLink);\n",
              "        }\n",
              "      </script>\n",
              "    </div>\n",
              "  </div>\n",
              "  "
            ]
          },
          "metadata": {},
          "execution_count": 66
        }
      ]
    },
    {
      "cell_type": "markdown",
      "source": [
        "Looking at the reviews, there is a clear difference between the ones classified as positive and those classified as negative, even though all of them come with 3 star ratings. **This exemplifies one way in which the review sentiment can give us additional signal of user preference.**"
      ],
      "metadata": {
        "id": "dUUq-3-w-2ue"
      }
    },
    {
      "cell_type": "markdown",
      "source": [
        "Now let's look at 1 and 2 star rating reviews that distilBERT classifies as positive. We can see that many of them talk about how they *used to* love the show, which confuses the model. Others complain about politics. We will see that at least anecdotally the distilBERT we fine-tune on this dataset will do better on those types of reviews that are common within this dataset."
      ],
      "metadata": {
        "id": "fZ9notuRKZ_3"
      }
    },
    {
      "cell_type": "code",
      "source": [
        "reviews[(reviews['BERT probs'] > 0.99) & reviews['rating'].isin([1, 2])][['title', 'content', 'rating', 'polarity score', 'BERT probs']].head(10)"
      ],
      "metadata": {
        "colab": {
          "base_uri": "https://localhost:8080/",
          "height": 363
        },
        "id": "krbfJzSyFlPh",
        "outputId": "4920da61-84e4-47b5-b27c-52ad67ceb71f"
      },
      "execution_count": null,
      "outputs": [
        {
          "output_type": "execute_result",
          "data": {
            "text/plain": [
              "                                                 title  \\\n",
              "4                                                  Why   \n",
              "122                                      Lurched Right   \n",
              "239                              Great Content but....   \n",
              "255                                     No more Monica   \n",
              "285                             Wanted to like this...   \n",
              "418  hope Mr Black acknowledges the REAL creators o...   \n",
              "492                               More of the Same Now   \n",
              "523                   Tip very intelligent butttttt!!!   \n",
              "551                             Well, So Much For That   \n",
              "713                      And That’s Why You’re Awesome   \n",
              "\n",
              "                                               content  rating  \\\n",
              "4    Why would you trust anything from MSNBC? They ...       2   \n",
              "122  Good folks. What happened to them at Evergreen...       2   \n",
              "239  I love the idea of this show and listen to oth...       2   \n",
              "255  I’m certain you are a good person, and I would...       2   \n",
              "285  Yikes, combine cheerful ignorance with minimal...       2   \n",
              "418  If you want to hear this done properly, listen...       1   \n",
              "492  I used to absolutely love Invisibilia.  The ep...       1   \n",
              "523  Tip you have to let your guests speak to have ...       1   \n",
              "551  When I first saw this podcast, I was VERY exci...       2   \n",
              "713  I have been listening to ATWWD for over a year...       2   \n",
              "\n",
              "     polarity score  BERT probs  \n",
              "4            0.7096    0.990558  \n",
              "122          0.5794    0.992818  \n",
              "239          0.9259    0.998793  \n",
              "255          0.9603    0.998205  \n",
              "285          0.7331    0.996498  \n",
              "418          0.8689    0.993219  \n",
              "492          0.8858    0.993986  \n",
              "523          0.9429    0.995483  \n",
              "551          0.9633    0.995017  \n",
              "713          0.9714    0.999869  "
            ],
            "text/html": [
              "\n",
              "  <div id=\"df-87413c99-9f63-4b51-861d-c2a8bedd486c\">\n",
              "    <div class=\"colab-df-container\">\n",
              "      <div>\n",
              "<style scoped>\n",
              "    .dataframe tbody tr th:only-of-type {\n",
              "        vertical-align: middle;\n",
              "    }\n",
              "\n",
              "    .dataframe tbody tr th {\n",
              "        vertical-align: top;\n",
              "    }\n",
              "\n",
              "    .dataframe thead th {\n",
              "        text-align: right;\n",
              "    }\n",
              "</style>\n",
              "<table border=\"1\" class=\"dataframe\">\n",
              "  <thead>\n",
              "    <tr style=\"text-align: right;\">\n",
              "      <th></th>\n",
              "      <th>title</th>\n",
              "      <th>content</th>\n",
              "      <th>rating</th>\n",
              "      <th>polarity score</th>\n",
              "      <th>BERT probs</th>\n",
              "    </tr>\n",
              "  </thead>\n",
              "  <tbody>\n",
              "    <tr>\n",
              "      <th>4</th>\n",
              "      <td>Why</td>\n",
              "      <td>Why would you trust anything from MSNBC? They ...</td>\n",
              "      <td>2</td>\n",
              "      <td>0.7096</td>\n",
              "      <td>0.990558</td>\n",
              "    </tr>\n",
              "    <tr>\n",
              "      <th>122</th>\n",
              "      <td>Lurched Right</td>\n",
              "      <td>Good folks. What happened to them at Evergreen...</td>\n",
              "      <td>2</td>\n",
              "      <td>0.5794</td>\n",
              "      <td>0.992818</td>\n",
              "    </tr>\n",
              "    <tr>\n",
              "      <th>239</th>\n",
              "      <td>Great Content but....</td>\n",
              "      <td>I love the idea of this show and listen to oth...</td>\n",
              "      <td>2</td>\n",
              "      <td>0.9259</td>\n",
              "      <td>0.998793</td>\n",
              "    </tr>\n",
              "    <tr>\n",
              "      <th>255</th>\n",
              "      <td>No more Monica</td>\n",
              "      <td>I’m certain you are a good person, and I would...</td>\n",
              "      <td>2</td>\n",
              "      <td>0.9603</td>\n",
              "      <td>0.998205</td>\n",
              "    </tr>\n",
              "    <tr>\n",
              "      <th>285</th>\n",
              "      <td>Wanted to like this...</td>\n",
              "      <td>Yikes, combine cheerful ignorance with minimal...</td>\n",
              "      <td>2</td>\n",
              "      <td>0.7331</td>\n",
              "      <td>0.996498</td>\n",
              "    </tr>\n",
              "    <tr>\n",
              "      <th>418</th>\n",
              "      <td>hope Mr Black acknowledges the REAL creators o...</td>\n",
              "      <td>If you want to hear this done properly, listen...</td>\n",
              "      <td>1</td>\n",
              "      <td>0.8689</td>\n",
              "      <td>0.993219</td>\n",
              "    </tr>\n",
              "    <tr>\n",
              "      <th>492</th>\n",
              "      <td>More of the Same Now</td>\n",
              "      <td>I used to absolutely love Invisibilia.  The ep...</td>\n",
              "      <td>1</td>\n",
              "      <td>0.8858</td>\n",
              "      <td>0.993986</td>\n",
              "    </tr>\n",
              "    <tr>\n",
              "      <th>523</th>\n",
              "      <td>Tip very intelligent butttttt!!!</td>\n",
              "      <td>Tip you have to let your guests speak to have ...</td>\n",
              "      <td>1</td>\n",
              "      <td>0.9429</td>\n",
              "      <td>0.995483</td>\n",
              "    </tr>\n",
              "    <tr>\n",
              "      <th>551</th>\n",
              "      <td>Well, So Much For That</td>\n",
              "      <td>When I first saw this podcast, I was VERY exci...</td>\n",
              "      <td>2</td>\n",
              "      <td>0.9633</td>\n",
              "      <td>0.995017</td>\n",
              "    </tr>\n",
              "    <tr>\n",
              "      <th>713</th>\n",
              "      <td>And That’s Why You’re Awesome</td>\n",
              "      <td>I have been listening to ATWWD for over a year...</td>\n",
              "      <td>2</td>\n",
              "      <td>0.9714</td>\n",
              "      <td>0.999869</td>\n",
              "    </tr>\n",
              "  </tbody>\n",
              "</table>\n",
              "</div>\n",
              "      <button class=\"colab-df-convert\" onclick=\"convertToInteractive('df-87413c99-9f63-4b51-861d-c2a8bedd486c')\"\n",
              "              title=\"Convert this dataframe to an interactive table.\"\n",
              "              style=\"display:none;\">\n",
              "        \n",
              "  <svg xmlns=\"http://www.w3.org/2000/svg\" height=\"24px\"viewBox=\"0 0 24 24\"\n",
              "       width=\"24px\">\n",
              "    <path d=\"M0 0h24v24H0V0z\" fill=\"none\"/>\n",
              "    <path d=\"M18.56 5.44l.94 2.06.94-2.06 2.06-.94-2.06-.94-.94-2.06-.94 2.06-2.06.94zm-11 1L8.5 8.5l.94-2.06 2.06-.94-2.06-.94L8.5 2.5l-.94 2.06-2.06.94zm10 10l.94 2.06.94-2.06 2.06-.94-2.06-.94-.94-2.06-.94 2.06-2.06.94z\"/><path d=\"M17.41 7.96l-1.37-1.37c-.4-.4-.92-.59-1.43-.59-.52 0-1.04.2-1.43.59L10.3 9.45l-7.72 7.72c-.78.78-.78 2.05 0 2.83L4 21.41c.39.39.9.59 1.41.59.51 0 1.02-.2 1.41-.59l7.78-7.78 2.81-2.81c.8-.78.8-2.07 0-2.86zM5.41 20L4 18.59l7.72-7.72 1.47 1.35L5.41 20z\"/>\n",
              "  </svg>\n",
              "      </button>\n",
              "      \n",
              "  <style>\n",
              "    .colab-df-container {\n",
              "      display:flex;\n",
              "      flex-wrap:wrap;\n",
              "      gap: 12px;\n",
              "    }\n",
              "\n",
              "    .colab-df-convert {\n",
              "      background-color: #E8F0FE;\n",
              "      border: none;\n",
              "      border-radius: 50%;\n",
              "      cursor: pointer;\n",
              "      display: none;\n",
              "      fill: #1967D2;\n",
              "      height: 32px;\n",
              "      padding: 0 0 0 0;\n",
              "      width: 32px;\n",
              "    }\n",
              "\n",
              "    .colab-df-convert:hover {\n",
              "      background-color: #E2EBFA;\n",
              "      box-shadow: 0px 1px 2px rgba(60, 64, 67, 0.3), 0px 1px 3px 1px rgba(60, 64, 67, 0.15);\n",
              "      fill: #174EA6;\n",
              "    }\n",
              "\n",
              "    [theme=dark] .colab-df-convert {\n",
              "      background-color: #3B4455;\n",
              "      fill: #D2E3FC;\n",
              "    }\n",
              "\n",
              "    [theme=dark] .colab-df-convert:hover {\n",
              "      background-color: #434B5C;\n",
              "      box-shadow: 0px 1px 3px 1px rgba(0, 0, 0, 0.15);\n",
              "      filter: drop-shadow(0px 1px 2px rgba(0, 0, 0, 0.3));\n",
              "      fill: #FFFFFF;\n",
              "    }\n",
              "  </style>\n",
              "\n",
              "      <script>\n",
              "        const buttonEl =\n",
              "          document.querySelector('#df-87413c99-9f63-4b51-861d-c2a8bedd486c button.colab-df-convert');\n",
              "        buttonEl.style.display =\n",
              "          google.colab.kernel.accessAllowed ? 'block' : 'none';\n",
              "\n",
              "        async function convertToInteractive(key) {\n",
              "          const element = document.querySelector('#df-87413c99-9f63-4b51-861d-c2a8bedd486c');\n",
              "          const dataTable =\n",
              "            await google.colab.kernel.invokeFunction('convertToInteractive',\n",
              "                                                     [key], {});\n",
              "          if (!dataTable) return;\n",
              "\n",
              "          const docLinkHtml = 'Like what you see? Visit the ' +\n",
              "            '<a target=\"_blank\" href=https://colab.research.google.com/notebooks/data_table.ipynb>data table notebook</a>'\n",
              "            + ' to learn more about interactive tables.';\n",
              "          element.innerHTML = '';\n",
              "          dataTable['output_type'] = 'display_data';\n",
              "          await google.colab.output.renderOutput(dataTable, element);\n",
              "          const docLink = document.createElement('div');\n",
              "          docLink.innerHTML = docLinkHtml;\n",
              "          element.appendChild(docLink);\n",
              "        }\n",
              "      </script>\n",
              "    </div>\n",
              "  </div>\n",
              "  "
            ]
          },
          "metadata": {},
          "execution_count": 67
        }
      ]
    },
    {
      "cell_type": "markdown",
      "source": [
        "Finally these are some 4 and 5 star rating reviews that distilBERt classifies as negative. We can see that it is mostly 4 star reviews and furthermore they all seem to be complaining. It makes sense that distilBERT would classify them as negative."
      ],
      "metadata": {
        "id": "Sj2Ub-ANKnc4"
      }
    },
    {
      "cell_type": "code",
      "source": [
        "reviews[(reviews['BERT probs'] < 0.01) & reviews['rating'].isin([4, 5])][['title', 'content', 'rating', 'polarity score', 'BERT probs']].head(10)"
      ],
      "metadata": {
        "colab": {
          "base_uri": "https://localhost:8080/",
          "height": 363
        },
        "id": "CRusEhFfFtWl",
        "outputId": "00fa30dc-e9e6-4b34-a0c4-e03008b78576"
      },
      "execution_count": null,
      "outputs": [
        {
          "output_type": "execute_result",
          "data": {
            "text/plain": [
              "                                   title  \\\n",
              "20                         Great but....   \n",
              "58                            Are u dumb   \n",
              "61                          New listener   \n",
              "106                           Up speak?!   \n",
              "222                         sound issues   \n",
              "244                   Great storytelling   \n",
              "257             Weird music over talking   \n",
              "318            I do like this podcast...   \n",
              "333         Bananas...NOOOOOwaaahhhh....   \n",
              "442  Hoping season 4 is a return to form   \n",
              "\n",
              "                                               content  rating  \\\n",
              "20   The interview with that Nolan guy was too anno...       4   \n",
              "58   Yo flip release podcast audio already facts!!!...       4   \n",
              "61   People have tried to get me interested in podc...       5   \n",
              "106  The show content is really interesting? But th...       4   \n",
              "222  i love the words when the sound is good enough...       4   \n",
              "244  I really like this podcast but I gotta admit t...       4   \n",
              "257  Jan. 7 episode has some weird loud music over ...       4   \n",
              "318  I really like this podcast, however, John has ...       4   \n",
              "333  Let me say, I absolutely love the MFM podcast ...       4   \n",
              "442  Seasons 1 & 2 were utter brilliance. Season 3 ...       4   \n",
              "\n",
              "     polarity score  BERT probs  \n",
              "20           0.8916    0.001526  \n",
              "58          -0.3348    0.001746  \n",
              "61           0.6908    0.001139  \n",
              "106          0.3981    0.000748  \n",
              "222          0.1862    0.009301  \n",
              "244          0.8589    0.008216  \n",
              "257         -0.5204    0.006214  \n",
              "318          0.6953    0.001644  \n",
              "333         -0.8815    0.002038  \n",
              "442          0.3167    0.004957  "
            ],
            "text/html": [
              "\n",
              "  <div id=\"df-0316346f-58f5-4472-8a9e-9e1b1dfa8209\">\n",
              "    <div class=\"colab-df-container\">\n",
              "      <div>\n",
              "<style scoped>\n",
              "    .dataframe tbody tr th:only-of-type {\n",
              "        vertical-align: middle;\n",
              "    }\n",
              "\n",
              "    .dataframe tbody tr th {\n",
              "        vertical-align: top;\n",
              "    }\n",
              "\n",
              "    .dataframe thead th {\n",
              "        text-align: right;\n",
              "    }\n",
              "</style>\n",
              "<table border=\"1\" class=\"dataframe\">\n",
              "  <thead>\n",
              "    <tr style=\"text-align: right;\">\n",
              "      <th></th>\n",
              "      <th>title</th>\n",
              "      <th>content</th>\n",
              "      <th>rating</th>\n",
              "      <th>polarity score</th>\n",
              "      <th>BERT probs</th>\n",
              "    </tr>\n",
              "  </thead>\n",
              "  <tbody>\n",
              "    <tr>\n",
              "      <th>20</th>\n",
              "      <td>Great but....</td>\n",
              "      <td>The interview with that Nolan guy was too anno...</td>\n",
              "      <td>4</td>\n",
              "      <td>0.8916</td>\n",
              "      <td>0.001526</td>\n",
              "    </tr>\n",
              "    <tr>\n",
              "      <th>58</th>\n",
              "      <td>Are u dumb</td>\n",
              "      <td>Yo flip release podcast audio already facts!!!...</td>\n",
              "      <td>4</td>\n",
              "      <td>-0.3348</td>\n",
              "      <td>0.001746</td>\n",
              "    </tr>\n",
              "    <tr>\n",
              "      <th>61</th>\n",
              "      <td>New listener</td>\n",
              "      <td>People have tried to get me interested in podc...</td>\n",
              "      <td>5</td>\n",
              "      <td>0.6908</td>\n",
              "      <td>0.001139</td>\n",
              "    </tr>\n",
              "    <tr>\n",
              "      <th>106</th>\n",
              "      <td>Up speak?!</td>\n",
              "      <td>The show content is really interesting? But th...</td>\n",
              "      <td>4</td>\n",
              "      <td>0.3981</td>\n",
              "      <td>0.000748</td>\n",
              "    </tr>\n",
              "    <tr>\n",
              "      <th>222</th>\n",
              "      <td>sound issues</td>\n",
              "      <td>i love the words when the sound is good enough...</td>\n",
              "      <td>4</td>\n",
              "      <td>0.1862</td>\n",
              "      <td>0.009301</td>\n",
              "    </tr>\n",
              "    <tr>\n",
              "      <th>244</th>\n",
              "      <td>Great storytelling</td>\n",
              "      <td>I really like this podcast but I gotta admit t...</td>\n",
              "      <td>4</td>\n",
              "      <td>0.8589</td>\n",
              "      <td>0.008216</td>\n",
              "    </tr>\n",
              "    <tr>\n",
              "      <th>257</th>\n",
              "      <td>Weird music over talking</td>\n",
              "      <td>Jan. 7 episode has some weird loud music over ...</td>\n",
              "      <td>4</td>\n",
              "      <td>-0.5204</td>\n",
              "      <td>0.006214</td>\n",
              "    </tr>\n",
              "    <tr>\n",
              "      <th>318</th>\n",
              "      <td>I do like this podcast...</td>\n",
              "      <td>I really like this podcast, however, John has ...</td>\n",
              "      <td>4</td>\n",
              "      <td>0.6953</td>\n",
              "      <td>0.001644</td>\n",
              "    </tr>\n",
              "    <tr>\n",
              "      <th>333</th>\n",
              "      <td>Bananas...NOOOOOwaaahhhh....</td>\n",
              "      <td>Let me say, I absolutely love the MFM podcast ...</td>\n",
              "      <td>4</td>\n",
              "      <td>-0.8815</td>\n",
              "      <td>0.002038</td>\n",
              "    </tr>\n",
              "    <tr>\n",
              "      <th>442</th>\n",
              "      <td>Hoping season 4 is a return to form</td>\n",
              "      <td>Seasons 1 &amp; 2 were utter brilliance. Season 3 ...</td>\n",
              "      <td>4</td>\n",
              "      <td>0.3167</td>\n",
              "      <td>0.004957</td>\n",
              "    </tr>\n",
              "  </tbody>\n",
              "</table>\n",
              "</div>\n",
              "      <button class=\"colab-df-convert\" onclick=\"convertToInteractive('df-0316346f-58f5-4472-8a9e-9e1b1dfa8209')\"\n",
              "              title=\"Convert this dataframe to an interactive table.\"\n",
              "              style=\"display:none;\">\n",
              "        \n",
              "  <svg xmlns=\"http://www.w3.org/2000/svg\" height=\"24px\"viewBox=\"0 0 24 24\"\n",
              "       width=\"24px\">\n",
              "    <path d=\"M0 0h24v24H0V0z\" fill=\"none\"/>\n",
              "    <path d=\"M18.56 5.44l.94 2.06.94-2.06 2.06-.94-2.06-.94-.94-2.06-.94 2.06-2.06.94zm-11 1L8.5 8.5l.94-2.06 2.06-.94-2.06-.94L8.5 2.5l-.94 2.06-2.06.94zm10 10l.94 2.06.94-2.06 2.06-.94-2.06-.94-.94-2.06-.94 2.06-2.06.94z\"/><path d=\"M17.41 7.96l-1.37-1.37c-.4-.4-.92-.59-1.43-.59-.52 0-1.04.2-1.43.59L10.3 9.45l-7.72 7.72c-.78.78-.78 2.05 0 2.83L4 21.41c.39.39.9.59 1.41.59.51 0 1.02-.2 1.41-.59l7.78-7.78 2.81-2.81c.8-.78.8-2.07 0-2.86zM5.41 20L4 18.59l7.72-7.72 1.47 1.35L5.41 20z\"/>\n",
              "  </svg>\n",
              "      </button>\n",
              "      \n",
              "  <style>\n",
              "    .colab-df-container {\n",
              "      display:flex;\n",
              "      flex-wrap:wrap;\n",
              "      gap: 12px;\n",
              "    }\n",
              "\n",
              "    .colab-df-convert {\n",
              "      background-color: #E8F0FE;\n",
              "      border: none;\n",
              "      border-radius: 50%;\n",
              "      cursor: pointer;\n",
              "      display: none;\n",
              "      fill: #1967D2;\n",
              "      height: 32px;\n",
              "      padding: 0 0 0 0;\n",
              "      width: 32px;\n",
              "    }\n",
              "\n",
              "    .colab-df-convert:hover {\n",
              "      background-color: #E2EBFA;\n",
              "      box-shadow: 0px 1px 2px rgba(60, 64, 67, 0.3), 0px 1px 3px 1px rgba(60, 64, 67, 0.15);\n",
              "      fill: #174EA6;\n",
              "    }\n",
              "\n",
              "    [theme=dark] .colab-df-convert {\n",
              "      background-color: #3B4455;\n",
              "      fill: #D2E3FC;\n",
              "    }\n",
              "\n",
              "    [theme=dark] .colab-df-convert:hover {\n",
              "      background-color: #434B5C;\n",
              "      box-shadow: 0px 1px 3px 1px rgba(0, 0, 0, 0.15);\n",
              "      filter: drop-shadow(0px 1px 2px rgba(0, 0, 0, 0.3));\n",
              "      fill: #FFFFFF;\n",
              "    }\n",
              "  </style>\n",
              "\n",
              "      <script>\n",
              "        const buttonEl =\n",
              "          document.querySelector('#df-0316346f-58f5-4472-8a9e-9e1b1dfa8209 button.colab-df-convert');\n",
              "        buttonEl.style.display =\n",
              "          google.colab.kernel.accessAllowed ? 'block' : 'none';\n",
              "\n",
              "        async function convertToInteractive(key) {\n",
              "          const element = document.querySelector('#df-0316346f-58f5-4472-8a9e-9e1b1dfa8209');\n",
              "          const dataTable =\n",
              "            await google.colab.kernel.invokeFunction('convertToInteractive',\n",
              "                                                     [key], {});\n",
              "          if (!dataTable) return;\n",
              "\n",
              "          const docLinkHtml = 'Like what you see? Visit the ' +\n",
              "            '<a target=\"_blank\" href=https://colab.research.google.com/notebooks/data_table.ipynb>data table notebook</a>'\n",
              "            + ' to learn more about interactive tables.';\n",
              "          element.innerHTML = '';\n",
              "          dataTable['output_type'] = 'display_data';\n",
              "          await google.colab.output.renderOutput(dataTable, element);\n",
              "          const docLink = document.createElement('div');\n",
              "          docLink.innerHTML = docLinkHtml;\n",
              "          element.appendChild(docLink);\n",
              "        }\n",
              "      </script>\n",
              "    </div>\n",
              "  </div>\n",
              "  "
            ]
          },
          "metadata": {},
          "execution_count": 68
        }
      ]
    }
  ]
}